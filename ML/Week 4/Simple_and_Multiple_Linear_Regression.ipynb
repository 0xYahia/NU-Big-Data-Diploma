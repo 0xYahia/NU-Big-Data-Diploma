{
  "nbformat": 4,
  "nbformat_minor": 0,
  "metadata": {
    "colab": {
      "provenance": []
    },
    "kernelspec": {
      "name": "python3",
      "display_name": "Python 3"
    },
    "language_info": {
      "name": "python"
    }
  },
  "cells": [
    {
      "cell_type": "code",
      "execution_count": 41,
      "metadata": {
        "id": "guBQTaoT2Bi7",
        "colab": {
          "base_uri": "https://localhost:8080/",
          "height": 447
        },
        "outputId": "f95a9b4c-c867-4d3c-cef2-7b0659b89d56"
      },
      "outputs": [
        {
          "output_type": "execute_result",
          "data": {
            "text/plain": [
              "[<matplotlib.lines.Line2D at 0x7a90d78bc040>]"
            ]
          },
          "metadata": {},
          "execution_count": 41
        },
        {
          "output_type": "display_data",
          "data": {
            "text/plain": [
              "<Figure size 640x480 with 1 Axes>"
            ],
            "image/png": "[encoded data removed]"
          },
          "metadata": {}
        }
      ],
      "source": [
        "import numpy as np\n",
        "import matplotlib.pyplot as plt\n",
        "x = np.array([20,25,30,35,40,45,50,55,60,65])\n",
        "y = np.array([0.5,1.8,4.8,14,6,6.5,7.8,9.4,9.8,10.9])\n",
        "plt.plot(x,y,'*b')"
      ]
    },
    {
      "cell_type": "markdown",
      "source": [],
      "metadata": {
        "id": "GoEpQvw-C2ID"
      }
    },
    {
      "cell_type": "code",
      "source": [
        "def SLR(x,y):\n",
        "  xmean = np.mean(x)\n",
        "  ymean = np.mean(y)\n",
        "  num = 0\n",
        "  den = 0\n",
        "  for i in range(len(x)):\n",
        "    num += (y[i]-ymean)*(x[i]-xmean)\n",
        "    den += (x[i]-xmean)**2\n",
        "  eps = 0.00000001\n",
        "  a = num/(den+eps)\n",
        "  b = ymean - a*xmean\n",
        "  return a,b"
      ],
      "metadata": {
        "id": "H4fmNvXmB6UO"
      },
      "execution_count": 6,
      "outputs": []
    },
    {
      "cell_type": "code",
      "source": [
        "slope,bias = SLR(x,y)"
      ],
      "metadata": {
        "id": "rngybaAaD4SW"
      },
      "execution_count": 28,
      "outputs": []
    },
    {
      "cell_type": "code",
      "source": [
        "xnew = np.linspace(0,100,100)\n",
        "ypred = slope * xnew + bias\n",
        "plt.plot(x,y,'*b')\n",
        "plt.plot(xnew,ypred,'-r')"
      ],
      "metadata": {
        "colab": {
          "base_uri": "https://localhost:8080/",
          "height": 447
        },
        "id": "OhfjLxI3D9EG",
        "outputId": "2de5d4ce-afbb-49a4-edc9-fed7095928b6"
      },
      "execution_count": 29,
      "outputs": [
        {
          "output_type": "execute_result",
          "data": {
            "text/plain": [
              "[<matplotlib.lines.Line2D at 0x7a90d7b66260>]"
            ]
          },
          "metadata": {},
          "execution_count": 29
        },
        {
          "output_type": "display_data",
          "data": {
            "text/plain": [
              "<Figure size 640x480 with 1 Axes>"
            ],
            "image/png": "[encoded data removed]"
          },
          "metadata": {}
        }
      ]
    },
    {
      "cell_type": "code",
      "source": [
        "def R2(a,b,x,y):\n",
        "  ypred = a * x + b\n",
        "  ymean = np.mean(y)\n",
        "  RSS = 0\n",
        "  TSS = 0\n",
        "  eps = 0.00000001\n",
        "  for i in range(len(y)):\n",
        "    RSS += (y[i]-ypred[i])**2\n",
        "    TSS += (y[i]-ymean)**2\n",
        "  return 1-(RSS/(TSS+eps))"
      ],
      "metadata": {
        "id": "j-KJdbOuFHZV"
      },
      "execution_count": 21,
      "outputs": []
    },
    {
      "cell_type": "code",
      "source": [
        "print(R2(slope,bias,x,y))"
      ],
      "metadata": {
        "colab": {
          "base_uri": "https://localhost:8080/"
        },
        "id": "IEimSISwHRl5",
        "outputId": "55eed7d5-05ae-449f-ab88-1005881dae0a"
      },
      "execution_count": 30,
      "outputs": [
        {
          "output_type": "stream",
          "name": "stdout",
          "text": [
            "0.9608711898826529\n"
          ]
        }
      ]
    },
    {
      "cell_type": "code",
      "source": [
        "def MLR(X,Y):\n",
        "  Xt = X.T\n",
        "  XtX = np.matmul(Xt,X)\n",
        "  XtXinv = np.linalg.inv(XtX)\n",
        "  XtXinv_Xt = np.matmul(XtXinv,Xt)\n",
        "  BETAs = np.matmul(XtXinv_Xt,Y)\n",
        "  return BETAs"
      ],
      "metadata": {
        "id": "x3-Ep_SFHV9n"
      },
      "execution_count": 31,
      "outputs": []
    },
    {
      "cell_type": "code",
      "source": [
        "X = np.array([x,x**2,x**3,x**4,x**5,x**6,x**7,np.ones(len(x))])\n",
        "print(X.T)"
      ],
      "metadata": {
        "colab": {
          "base_uri": "https://localhost:8080/"
        },
        "id": "ZBMBtzDAJWGf",
        "outputId": "8213308d-edf3-4406-9db9-0ed13c14b5ab"
      },
      "execution_count": 34,
      "outputs": [
        {
          "output_type": "stream",
          "name": "stdout",
          "text": [
            "[[2.00000e+01 4.00000e+02 8.00000e+03 1.00000e+00]\n",
            " [2.50000e+01 6.25000e+02 1.56250e+04 1.00000e+00]\n",
            " [3.00000e+01 9.00000e+02 2.70000e+04 1.00000e+00]\n",
            " [3.50000e+01 1.22500e+03 4.28750e+04 1.00000e+00]\n",
            " [4.00000e+01 1.60000e+03 6.40000e+04 1.00000e+00]\n",
            " [4.50000e+01 2.02500e+03 9.11250e+04 1.00000e+00]\n",
            " [5.00000e+01 2.50000e+03 1.25000e+05 1.00000e+00]\n",
            " [5.50000e+01 3.02500e+03 1.66375e+05 1.00000e+00]\n",
            " [6.00000e+01 3.60000e+03 2.16000e+05 1.00000e+00]\n",
            " [6.50000e+01 4.22500e+03 2.74625e+05 1.00000e+00]]\n"
          ]
        }
      ]
    },
    {
      "cell_type": "code",
      "source": [
        "X = np.array([x,x**2,x**3,x**4,x**5,x**6,x**7,np.ones(len(x))])\n",
        "y = np.array([0.5,1.8,4.8,10,6,6.5,7.8,9.4,9.8,10.9])\n",
        "BETAs = MLR(X.T,y)\n",
        "xnew = np.linspace(20,65,100)\n",
        "Xnew = np.array([xnew,xnew**2,xnew**3,xnew**4,xnew**5,xnew**6,xnew**7,np.ones(len(xnew))])\n",
        "ypred = np.matmul(BETAs,Xnew)\n",
        "plt.plot(x,y,'*b')\n",
        "plt.plot(xnew,ypred,'-r')"
      ],
      "metadata": {
        "colab": {
          "base_uri": "https://localhost:8080/",
          "height": 447
        },
        "id": "wyeBwCMtKOB8",
        "outputId": "d2254844-568c-4ed4-afb3-b55536622328"
      },
      "execution_count": 59,
      "outputs": [
        {
          "output_type": "execute_result",
          "data": {
            "text/plain": [
              "[<matplotlib.lines.Line2D at 0x7a90d70f02b0>]"
            ]
          },
          "metadata": {},
          "execution_count": 59
        },
        {
          "output_type": "display_data",
          "data": {
            "text/plain": [
              "<Figure size 640x480 with 1 Axes>"
            ],
            "image/png": "[encoded data removed]"
          },
          "metadata": {}
        }
      ]
    },
    {
      "cell_type": "code",
      "source": [],
      "metadata": {
        "id": "xZ_xRohKKejm"
      },
      "execution_count": 37,
      "outputs": []
    }
  ]
}