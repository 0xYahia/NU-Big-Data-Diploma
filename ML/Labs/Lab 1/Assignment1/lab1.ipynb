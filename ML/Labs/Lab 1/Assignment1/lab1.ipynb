{
 "cells": [
  {
   "cell_type": "markdown",
   "metadata": {},
   "source": [
    "Import standard libraries we need."
   ]
  },
  {
   "cell_type": "code",
   "execution_count": 38,
   "metadata": {},
   "outputs": [],
   "source": [
    "import sys\n",
    "import math\n",
    "import numpy  as np\n"
   ]
  },
  {
   "cell_type": "markdown",
   "metadata": {},
   "source": [
    "  Calculate the mean of a list of numbers.\n",
    "\n",
    "  Parameters:\n",
    "  data (list): A list of numbers.\n",
    "\n",
    "  Returns:\n",
    "  float: The mean of the numbers in the list."
   ]
  },
  {
   "cell_type": "code",
   "execution_count": 39,
   "metadata": {},
   "outputs": [],
   "source": [
    "def mean(data):\n",
    "  return np.sum(data) / len(data)"
   ]
  },
  {
   "cell_type": "markdown",
   "metadata": {},
   "source": [
    "  Calculate the median of a list of numbers.\n",
    "\n",
    "  Parameters:\n",
    "  data (list): A list of numbers.\n",
    "\n",
    "  Returns:\n",
    "  float: The median value of the input data.\n",
    "\n",
    "  Examples:\n",
    "  ```python\n",
    "  median([1, 2, 3, 4, 5])\n",
    "  3\n",
    "  median([1, 2, 3, 4, 5, 6])\n",
    "  3.5\n",
    "  ```"
   ]
  },
  {
   "cell_type": "code",
   "execution_count": 40,
   "metadata": {},
   "outputs": [],
   "source": [
    "def median(data):\n",
    "  sorted_data = np.sort(data)\n",
    "  n = len(sorted_data)\n",
    "  mid = n // 2\n",
    "  if n % 2 == 0:\n",
    "    return (sorted_data[mid - 1] + sorted_data[mid]) / 2\n",
    "  else:\n",
    "    return sorted_data[mid]"
   ]
  },
  {
   "cell_type": "markdown",
   "metadata": {},
   "source": [
    "### Calculate the variance of a given dataset."
   ]
  },
  {
   "cell_type": "code",
   "execution_count": 41,
   "metadata": {},
   "outputs": [],
   "source": [
    "def variance(data):\n",
    "  m = mean(data)\n",
    "  return np.sum((x - m) ** 2 for x in data) / len(data)\n"
   ]
  },
  {
   "cell_type": "markdown",
   "metadata": {},
   "source": [
    "### Calculate the standard deviation of a given dataset.\n",
    "**Example**\n",
    "```python\n",
    "data = [1, 2, 3, 4, 5]\n",
    "standard_deviation(data)\n",
    "```\n",
    ">>>1.4142135623730951"
   ]
  },
  {
   "cell_type": "code",
   "execution_count": 42,
   "metadata": {},
   "outputs": [],
   "source": [
    "def std_dev(data):\n",
    "  if len(data) == 0:\n",
    "    raise ValueError(\"Dataset is empty.\")\n",
    "\n",
    "  return math.sqrt(variance(data))"
   ]
  },
  {
   "cell_type": "markdown",
   "metadata": {},
   "source": [
    "  Calculate the quartiles and interquartile range (IQR) of a given dataset.\n",
    "\n",
    "  Parameters:\n",
    "  - data (list): A list of numerical values representing the dataset.\n",
    "\n",
    "  Returns:\n",
    "  - q1 (float): The first quartile (25th percentile) of the dataset.\n",
    "  - q2 (float): The second quartile (50th percentile or median) of the dataset.\n",
    "  - q3 (float): The third quartile (75th percentile) of the dataset.\n",
    "  - iqr (float): The interquartile range (IQR) of the dataset, calculated as q3 - q1."
   ]
  },
  {
   "cell_type": "code",
   "execution_count": 43,
   "metadata": {},
   "outputs": [],
   "source": [
    "def quartiles(data):\n",
    "  sorted_data = sorted(data)\n",
    "  n = len(sorted_data)\n",
    "  mid = n // 2\n",
    "  if n % 2 == 0:\n",
    "    lower_half = sorted_data[:mid]\n",
    "    upper_half = sorted_data[mid:]\n",
    "  else:\n",
    "    lower_half = sorted_data[:mid]\n",
    "    upper_half = sorted_data[mid + 1:]\n",
    "\n",
    "  q1 = median(lower_half)\n",
    "  q2 = median(sorted_data)\n",
    "  q3 = median(upper_half)\n",
    "  iqr = q3 - q1\n",
    "\n",
    "  return q1, q2, q3, iqr"
   ]
  },
  {
   "cell_type": "markdown",
   "metadata": {},
   "source": [
    "Detects outliers and extreme outliers in a given dataset.\n",
    "\n",
    "Parameters:\n",
    "data (list): A list of numerical values representing the dataset.\n",
    "\n",
    "Returns:\n",
    "tuple: A tuple containing two lists - outliers and extreme outliers.\n",
    "    - outliers: A list of values that are considered outliers.\n",
    "    - extreme_outliers: A list of values that are considered extreme outliers."
   ]
  },
  {
   "cell_type": "code",
   "execution_count": 44,
   "metadata": {},
   "outputs": [],
   "source": [
    "def detect_outliers(data):\n",
    "    q1, q2, q3, iqr = quartiles(data)\n",
    "    lower_bound = q1 - 1.5 * iqr\n",
    "    upper_bound = q3 + 1.5 * iqr\n",
    "\n",
    "    outliers = [x for x in data if x < lower_bound or x > upper_bound]\n",
    "    extreme_outliers = [x for x in data if x < lower_bound - 3 * iqr or x > upper_bound + 3 * iqr]\n",
    "\n",
    "    return outliers, extreme_outliers"
   ]
  },
  {
   "cell_type": "markdown",
   "metadata": {},
   "source": [
    "  Calculate the skewness of a given dataset.\n",
    "\n",
    "  Parameters:\n",
    "  data (list or array-like): The dataset for which skewness needs to be calculated.\n",
    "\n",
    "  Returns:\n",
    "  float: The skewness value of the dataset."
   ]
  },
  {
   "cell_type": "code",
   "execution_count": 53,
   "metadata": {},
   "outputs": [],
   "source": [
    "def skewness(data):\n",
    "  m = mean(data)\n",
    "  mod = median(data)\n",
    "  s = std_dev(data)\n",
    "\n",
    "  return (m - mod) / s\n"
   ]
  },
  {
   "cell_type": "markdown",
   "metadata": {},
   "source": [
    "  Calculate the kurtosis of a given dataset.\n",
    "\n",
    "  Parameters:\n",
    "  data (list or array-like): The dataset for which kurtosis needs to be calculated.\n",
    "\n",
    "  Returns:\n",
    "  float: The kurtosis value of the dataset.\n",
    "\n",
    "  Formula:\n",
    "  The kurtosis is calculated using the fourth moment about the mean divided by the square of the variance.\n",
    "  The formula used is:\n",
    "  kurtosis = (sum((x - m) ** 4 for x in data) * n * (n + 1)) / ((n - 1) * (n - 2) * (n - 3) * s ** 4) - 3 * (n - 1) ** 2 / ((n - 2) * (n - 3))\n",
    "\n",
    "  where:\n",
    "  - m: Mean of the dataset\n",
    "  - s: Standard deviation of the dataset\n",
    "  - n: Number of elements in the dataset\n",
    "  - x: Each element in the dataset"
   ]
  },
  {
   "cell_type": "code",
   "execution_count": 46,
   "metadata": {},
   "outputs": [],
   "source": [
    "def kurtosis(data):\n",
    "  m = mean(data)\n",
    "  s = std_dev(data)\n",
    "  n = len(data)\n",
    "\n",
    "  return sum((x - m) ** 4 for x in data) * n * (n + 1) / ((n - 1) * (n - 2) * (n - 3) * s ** 4) - 3 * (n - 1) ** 2 / ((n - 2) * (n - 3))"
   ]
  },
  {
   "cell_type": "markdown",
   "metadata": {},
   "source": [
    "  Suggests transformations based on the skewness and kurtosis of a distribution.\n",
    "\n",
    "  Parameters:\n",
    "  skew (float): The skewness of the distribution.\n",
    "  kurt (float): The kurtosis of the distribution.\n",
    "\n",
    "  Returns:\n",
    "  list: A list of suggested transformations based on the skewness and kurtosis."
   ]
  },
  {
   "cell_type": "code",
   "execution_count": 47,
   "metadata": {},
   "outputs": [],
   "source": [
    "def suggest_transformations(skew, kurt):\n",
    "  transformations = []\n",
    "  if abs(skew) > 1:\n",
    "    transformations.append(\"Logarithmic Transformation\")\n",
    "  if abs(kurt) > 3:\n",
    "    transformations.append(\"Square Root Transformation\")\n",
    "  if abs(skew) > 1 and abs(kurt) > 3:\n",
    "    transformations.append(\"Box-Cox Transformation\")\n",
    "\n",
    "  return transformations"
   ]
  },
  {
   "cell_type": "code",
   "execution_count": 54,
   "metadata": {},
   "outputs": [
    {
     "name": "stderr",
     "output_type": "stream",
     "text": [
      "C:\\Users\\Yahia\\AppData\\Local\\Temp\\ipykernel_15776\\3161617076.py:3: DeprecationWarning: Calling np.sum(generator) is deprecated, and in the future will give a different result. Use np.sum(np.fromiter(generator)) or the python sum builtin instead.\n",
      "  return np.sum((x - m) ** 2 for x in data) / len(data)\n"
     ]
    },
    {
     "name": "stdout",
     "output_type": "stream",
     "text": [
      "Basic Statistical Measures:\n",
      "Mean: 100.03485078\n",
      "Median: 99.8985\n",
      "Variance: 399.61406751647326\n",
      "Standard Deviation: 19.9903493595403\n",
      "\n",
      "Quartiles:\n",
      "Q1: 86.5805\n",
      "Q2: 99.8985\n",
      "Q3: 113.47\n",
      "IQR: 26.889499999999998\n",
      "\n",
      "Anomaly Detection:\n",
      "Outliers: [159.76, 45.209, 158.44, 161.59, 44.641, 41.256, 158.91, 39.226, 45.647, 164.69, 40.761, 42.829, 44.124, 154.76, 154.53, 158.6, 159.01, 45.819, 29.215, 157.44, 169.93, 40.264, 177.99, 45.487, 159.23, 161.78, 31.487, 159.61, 167.08, 38.267, 39.343, 45.112, 155.16, 43.394, 154.23, 159.86, 157.12, 45.758, 156.77, 156.47, 155.36, 158.0, 175.36, 45.275, 156.4, 164.83, 45.794, 158.12, 158.24, 35.282, 42.358, 153.92, 156.08, 157.61, 44.77, 44.612, 159.1, 42.008, 37.906, 40.812, 42.246, 45.651, 175.66, 41.651, 41.5, 160.11, 157.95, 42.624, 157.37, 155.33, 36.921, 37.011, 45.449, 171.53, 161.76, 161.13, 160.17, 44.078, 166.76, 45.42, 45.283, 42.047, 159.99, 41.782, 42.748, 172.62, 157.86, 165.6, 160.43, 154.93, 42.593, 155.27, 163.01, 45.56, 41.949, 42.229, 41.803, 154.22, 45.425, 167.14, 27.418, 38.351, 158.73, 154.85, 166.83, 41.753, 157.84, 155.91, 178.84, 36.073, 46.236, 159.18, 39.91, 38.132, 42.605, 38.259, 36.609, 45.171, 158.81, 45.628, 157.76, 157.18, 41.75, 37.751, 12.29, 42.662, 45.976, 156.38, 156.49, 31.964, 159.88, 42.887, 39.45, 153.96, 165.21, 45.071, 158.03, 154.32, 159.81, 38.27, 37.389, 153.9, 38.305, 40.693, 156.84, 160.96, 166.35, 160.49, 159.45, 26.544, 167.85, 34.448, 33.676, 39.946, 160.16, 157.98, 33.896, 43.681, 155.64, 155.62, 35.294, 158.43, 154.44, 42.782, 27.856, 33.383, 37.752, 159.11, 156.39, 165.64, 46.053, 42.225, 154.72, 156.36, 42.216, 163.0, 24.982, 154.21, 155.83, 40.618, 42.548, 43.917, 42.251, 175.57, 32.043, 154.62, 45.983, 160.6, 45.907, 160.41, 155.59, 156.19, 157.37, 36.03, 41.193, 173.54, 159.3, 162.9, 161.49, 163.17, 44.944, 154.66, 37.259, 41.672, 41.352, 45.125, 162.17, 159.05, 36.671, 38.41, 162.44, 44.987, 37.893, 37.456, 159.57, 35.37, 159.89, 38.9, 37.766, 154.27, 159.66, 35.871, 158.5, 157.23, 40.826, 36.617, 161.74, 41.394, 44.532, 161.9, 158.53, 33.994, 45.507, 159.24, 34.565, 171.84, 157.74, 39.99, 44.666, 41.339, 171.77, 45.499, 44.567, 41.152, 43.765, 46.198, 168.56, 31.001, 164.78, 154.41, 40.621, 41.42, 30.522, 186.81, 156.26, 44.075, 35.899, 44.319, 43.683, 156.19, 157.61, 158.18, 157.44, 156.3, 32.985, 162.34, 161.65, 154.23, 154.41, 157.37, 44.089, 43.967, 42.032, 41.055, 30.516, 42.253, 44.311, 154.99, 158.74, 31.869, 11.328, 170.55, 46.188, 38.294, 37.267, 31.575, 163.88, 159.98, 40.719, 39.902, 42.745, 160.81, 154.66, 155.24, 167.98, 29.8, 35.055, 158.02, 36.871, 43.096, 154.5, 42.424, 159.22, 39.586, 157.65, 160.38, 156.05, 42.101, 43.458, 46.031, 154.84, 31.895, 41.566, 22.758, 157.03, 41.18, 43.593, 45.79, 40.291, 40.672, 180.45, 41.94, 153.81, 159.7, 40.045, 44.188, 154.72, 158.49, 157.08, 39.194, 29.514, 161.1, 33.18, 44.204, 42.699, 157.34, 43.403, 43.886, 45.899, 40.443, 154.43, 160.63, 37.461, 40.244, 157.07, 157.51, 40.066, 186.8, 35.624, 36.863, 44.026, 45.351, 31.422, 168.01, 155.13, 41.036, 44.755, 44.381, 45.384, 154.15, 43.364, 155.1, 46.232, 45.792, 169.74, 35.905, 155.41, 155.01, 37.86, 43.985, 43.508, 25.326, 40.639, 26.098, 42.913, 157.33, 167.19, 45.665, 37.591, 36.625, 160.9, 162.29, 157.12, 157.66, 164.93, 156.4, 156.48, 180.35, 39.682, 43.033, 32.623, 37.504, 25.362, 154.74, 43.918, 43.798, 45.866, 155.33, 155.37, 36.649, 164.47, 31.045, 44.795, 43.554, 157.17, 159.61, 170.23, 43.683, 42.27, 41.553, 42.242, 162.25, 156.91, 159.2, 37.478, 163.67, 166.24, 156.36, 43.651, 160.26, 40.379, 154.17, 44.26, 154.46, 43.626, 159.39, 155.91, 44.484, 169.96, 31.33, 40.23, 41.666, 161.78, 44.999, 155.07, 38.116, 162.24, 44.506, 44.907, 154.26, 165.41, 42.492, 32.723, 41.643, 43.827, 162.38, 38.542, 41.591, 157.26, 41.823, 155.19, 42.598, 43.546, 44.208, 155.7, 46.1, 186.19, 156.09, 44.05, 43.551, 44.618, 169.93, 40.306, 161.78, 162.05, 43.669, 38.656, 156.74, 44.665, 43.01, 24.725, 166.67, 45.245, 160.45, 158.0, 162.93, 41.034, 156.82, 41.308, 39.335, 31.308, 42.152, 43.248, 44.806, 45.717, 45.15, 35.153, 34.354, 155.26, 155.24, 45.99, 160.29, 155.51, 155.8, 159.95, 157.01, 171.63, 44.349, 46.107, 35.433, 45.321, 163.06, 41.829, 38.673, 39.189, 17.794, 35.317, 165.97, 155.62, 33.238, 161.18, 154.98, 154.0, 43.734, 158.84, 162.13, 42.584, 155.3, 170.35, 162.97, 155.19, 24.956, 154.33, 44.999, 156.33, 161.24, 46.224, 43.23, 157.91, 161.01, 37.122, 44.038, 41.629, 157.69, 154.7, 155.58, 46.182, 169.34, 20.198, 40.163, 44.492, 41.143, 154.03, 164.18, 165.33, 158.43, 158.82, 154.62, 165.98, 24.343, 34.772, 156.92, 45.595, 159.17, 41.649, 154.32, 157.95, 40.551, 34.511, 160.07, 30.189, 154.47, 36.96, 38.634, 157.56, 154.57, 156.82, 157.57, 44.669, 43.402, 161.48, 20.361, 45.57, 167.27, 41.649, 158.99, 168.6, 158.63, 37.557, 45.629, 158.22, 44.85, 37.719, 34.373, 158.54, 43.767, 157.13, 154.58, 162.7, 158.17, 32.448, 155.38, 31.769, 42.2, 44.168, 44.516, 36.872, 157.96, 45.106, 159.88, 37.933, 154.01, 37.259, 43.985, 154.61, 42.709, 44.345, 42.655, 167.96, 39.431, 42.329, 38.219, 164.6, 155.64, 43.709, 154.33, 45.625, 159.44, 46.123, 35.402, 154.73, 158.11, 35.108, 40.531, 38.801, 35.277, 157.17, 160.65, 158.92, 161.74, 44.379, 41.979, 44.578, 155.02, 157.58, 38.165, 45.709, 38.403, 159.8, 28.093, 156.31, 154.07, 156.89, 188.69, 40.99, 44.809, 154.14, 154.03, 184.78, 178.87, 43.947, 158.15, 43.887, 154.37, 42.884, 155.45, 43.709, 40.503, 30.316, 153.87, 169.92, 40.361, 162.79, 42.009, 41.718, 33.856, 158.45, 13.531, 44.16, 160.8, 44.193, 170.01, 157.01, 156.15, 157.78, 160.51, 166.49, 154.19, 46.186, 156.57, 154.44, 44.338, 156.16, 41.109, 156.6, 158.3, 44.99, 39.96, 42.854, 171.26, 157.25, 29.066, 43.881, 43.523, 41.562, 177.93]\n",
      "Extreme Outliers: []\n",
      "\n",
      "Skewness and Kurtosis:\n",
      "Skewness: 0.00682083026902819\n",
      "Kurtosis: 0.008437353803543157\n",
      "\n",
      "Suggested Data Transformations:\n",
      "No suggested data transformations.\n"
     ]
    }
   ],
   "source": [
    "# Main function\n",
    "def analyze_data_distribution(file_name):\n",
    "    file_path = file_name\n",
    "    data = np.loadtxt(file_path, delimiter=',')\n",
    "\n",
    "    # Basic Statistical Measures\n",
    "    mean_value = mean(data)\n",
    "    median_value = median(data)\n",
    "    variance_value = variance(data)\n",
    "    std_dev_value = std_dev(data)\n",
    "\n",
    "    # Quartile Values and IQR\n",
    "    q1, q2, q3, iqr = quartiles(data)\n",
    "\n",
    "    # Anomaly Detection\n",
    "    outliers, extreme_outliers = detect_outliers(data)\n",
    "\n",
    "    # Skewness and Kurtosis\n",
    "    skew = skewness(data)\n",
    "    kurt = kurtosis(data)\n",
    "\n",
    "    # Suggested Data Transformations\n",
    "    transformations = suggest_transformations(skew, kurt)\n",
    "\n",
    "    # Print results\n",
    "    print(\"Basic Statistical Measures:\")\n",
    "    print(f\"Mean: {mean_value}\")\n",
    "    print(f\"Median: {median_value}\")\n",
    "    print(f\"Variance: {variance_value}\")\n",
    "    print(f\"Standard Deviation: {std_dev_value}\")\n",
    "\n",
    "    print(\"\\nQuartiles:\")\n",
    "    print(f\"Q1: {q1}\")\n",
    "    print(f\"Q2: {q2}\")\n",
    "    print(f\"Q3: {q3}\")\n",
    "    print(f\"IQR: {iqr}\")\n",
    "\n",
    "    print(\"\\nAnomaly Detection:\")\n",
    "    print(f\"Outliers: {outliers}\")\n",
    "    print(f\"Extreme Outliers: {extreme_outliers}\")\n",
    "\n",
    "    print(\"\\nSkewness and Kurtosis:\")\n",
    "    print(f\"Skewness: {skew}\")\n",
    "    print(f\"Kurtosis: {kurt}\")\n",
    "\n",
    "\n",
    "    print(\"\\nSuggested Data Transformations:\")\n",
    "    if  transformations:\n",
    "        print(\"\\n\".join( suggest_transformations))\n",
    "    else:\n",
    "        print(\"No suggested data transformations.\")\n",
    "\n",
    "if __name__ == \"__main__\":\n",
    "    if len(sys.argv) != 2:\n",
    "        print(f\"Usage: {sys.argv[0]} <file_name>\")\n",
    "        sys.exit(1)\n",
    "\n",
    "    file_name = \"Data-1.txt\"\n",
    "\n",
    "    analyze_data_distribution(file_name)\n",
    "\n"
   ]
  },
  {
   "cell_type": "markdown",
   "metadata": {},
   "source": []
  }
 ],
 "metadata": {
  "kernelspec": {
   "display_name": "condaenv1",
   "language": "python",
   "name": "python3"
  },
  "language_info": {
   "codemirror_mode": {
    "name": "ipython",
    "version": 3
   },
   "file_extension": ".py",
   "mimetype": "text/x-python",
   "name": "python",
   "nbconvert_exporter": "python",
   "pygments_lexer": "ipython3",
   "version": "3.12.2"
  }
 },
 "nbformat": 4,
 "nbformat_minor": 2
}
