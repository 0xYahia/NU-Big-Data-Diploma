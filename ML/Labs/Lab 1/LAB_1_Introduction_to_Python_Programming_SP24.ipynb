{
  "cells": [
    {
      "cell_type": "markdown",
      "metadata": {
        "id": "qWYPYcHiTR2x"
      },
      "source": [
        "# Machine Learning Fall 2024 : Python Revision Lab"
      ]
    },
    {
      "cell_type": "markdown",
      "metadata": {
        "id": "TX9u7Vr_TR24"
      },
      "source": [
        "## Modules"
      ]
    },
    {
      "cell_type": "markdown",
      "metadata": {
        "id": "-Aul0W4hTR25"
      },
      "source": [
        "Most of the functionality in Python is provided by *modules*. The Python Standard Library is a large collection of modules that provides *cross-platform* implementations of common facilities such as access to the operating system, file I/O, string management, network communication, and much more."
      ]
    },
    {
      "cell_type": "code",
      "execution_count": 1,
      "metadata": {
        "collapsed": true,
        "id": "1k234BS4TR26"
      },
      "outputs": [],
      "source": [
        "import math"
      ]
    },
    {
      "cell_type": "markdown",
      "metadata": {
        "id": "T58j6pTxTR28"
      },
      "source": [
        "This includes the whole module and makes it available for use later in the program. For example, we can do:"
      ]
    },
    {
      "cell_type": "code",
      "execution_count": 5,
      "metadata": {
        "colab": {
          "base_uri": "https://localhost:8080/"
        },
        "id": "2_zbSSG6TR29",
        "outputId": "cd9ed9e4-e387-4fea-8274-649bbeb630e1"
      },
      "outputs": [
        {
          "name": "stdout",
          "output_type": "stream",
          "text": [
            "1.0\n"
          ]
        }
      ],
      "source": [
        "import math\n",
        "\n",
        "x = math.cos(2 * math.pi)\n",
        "\n",
        "print(x)"
      ]
    },
    {
      "cell_type": "markdown",
      "metadata": {
        "id": "umTUYlvoTR2-"
      },
      "source": [
        "Alternatively, we can chose to import all symbols (functions and variables) in a module to the current namespace (so that we don't need to use the prefix \"`math.`\" every time we use something from the `math` module:"
      ]
    },
    {
      "cell_type": "code",
      "execution_count": 7,
      "metadata": {
        "colab": {
          "base_uri": "https://localhost:8080/"
        },
        "id": "_73cK8bITR2_",
        "outputId": "db3713b4-a30c-4395-ab68-4599fa323c31"
      },
      "outputs": [
        {
          "name": "stdout",
          "output_type": "stream",
          "text": [
            "1.0 Yahia\n"
          ]
        }
      ],
      "source": [
        "from math import *\n",
        "\n",
        "\n",
        "x = cos(2 * pi)\n",
        "\n",
        "print(x)"
      ]
    },
    {
      "cell_type": "markdown",
      "metadata": {
        "id": "cEpKDBBBTR3A"
      },
      "source": [
        "This pattern can be very convenient, but in large programs that include many modules it is often a good idea to keep the symbols from each module in their own namespaces, by using the `import math` pattern. This would elminate potentially confusing problems with name space collisions.\n",
        "\n",
        "As a third alternative, we can chose to import only a few selected symbols from a module by explicitly listing which ones we want to import instead of using the wildcard character `*`:"
      ]
    },
    {
      "cell_type": "code",
      "execution_count": 8,
      "metadata": {
        "colab": {
          "base_uri": "https://localhost:8080/"
        },
        "collapsed": true,
        "id": "vdo-MzD9TR3B",
        "outputId": "f9b8dd3c-a340-46d8-e46f-e4bd916c0cac"
      },
      "outputs": [
        {
          "name": "stdout",
          "output_type": "stream",
          "text": [
            "1.0\n"
          ]
        }
      ],
      "source": [
        "from math import cos, pi\n",
        "\n",
        "x = cos(2 * pi)\n",
        "\n",
        "print(x)"
      ]
    },
    {
      "cell_type": "markdown",
      "metadata": {
        "id": "z5xUYSNJTR3C"
      },
      "source": [
        "### Looking at what a module contains, and its documentation"
      ]
    },
    {
      "cell_type": "markdown",
      "metadata": {
        "id": "x0qzXOvbTR3D"
      },
      "source": [
        "Once a module is imported, we can list the symbols it provides using the `dir` function:"
      ]
    },
    {
      "cell_type": "code",
      "execution_count": 9,
      "metadata": {
        "colab": {
          "base_uri": "https://localhost:8080/"
        },
        "collapsed": true,
        "id": "8ZVKGdCqTR3E",
        "outputId": "a3fddd68-c2a2-40a9-dc13-aba3f33f8780"
      },
      "outputs": [
        {
          "name": "stdout",
          "output_type": "stream",
          "text": [
            "['__doc__', '__loader__', '__name__', '__package__', '__spec__', 'acos', 'acosh', 'asin', 'asinh', 'atan', 'atan2', 'atanh', 'cbrt', 'ceil', 'comb', 'copysign', 'cos', 'cosh', 'degrees', 'dist', 'e', 'erf', 'erfc', 'exp', 'exp2', 'expm1', 'fabs', 'factorial', 'floor', 'fmod', 'frexp', 'fsum', 'gamma', 'gcd', 'hypot', 'inf', 'isclose', 'isfinite', 'isinf', 'isnan', 'isqrt', 'lcm', 'ldexp', 'lgamma', 'log', 'log10', 'log1p', 'log2', 'modf', 'nan', 'nextafter', 'perm', 'pi', 'pow', 'prod', 'radians', 'remainder', 'sin', 'sinh', 'sqrt', 'sumprod', 'tan', 'tanh', 'tau', 'trunc', 'ulp']\n"
          ]
        }
      ],
      "source": [
        "import math\n",
        "print(dir(math))"
      ]
    },
    {
      "cell_type": "markdown",
      "metadata": {
        "id": "SpLrxXumTR3E"
      },
      "source": [
        "And using the function `help` we can get a description of each function (almost .. not all functions have docstrings, as they are technically called, but the vast majority of functions are documented this way)."
      ]
    },
    {
      "cell_type": "code",
      "execution_count": 10,
      "metadata": {
        "colab": {
          "base_uri": "https://localhost:8080/"
        },
        "collapsed": true,
        "id": "EazM25oLTR3F",
        "outputId": "1a11a14b-0455-4c1a-9457-de1f17d77462"
      },
      "outputs": [
        {
          "name": "stdout",
          "output_type": "stream",
          "text": [
            "Help on built-in function log in module math:\n",
            "\n",
            "log(...)\n",
            "    log(x, [base=math.e])\n",
            "    Return the logarithm of x to the given base.\n",
            "\n",
            "    If the base is not specified, returns the natural logarithm (base e) of x.\n",
            "\n"
          ]
        }
      ],
      "source": [
        "help(math.log)"
      ]
    },
    {
      "cell_type": "code",
      "execution_count": 7,
      "metadata": {
        "colab": {
          "base_uri": "https://localhost:8080/"
        },
        "collapsed": true,
        "id": "o5FPZwfpTR3F",
        "outputId": "73e7fdf4-4a28-4cc2-b7ab-6fccd41ea399"
      },
      "outputs": [
        {
          "data": {
            "text/plain": [
              "2.302585092994046"
            ]
          },
          "execution_count": 7,
          "metadata": {},
          "output_type": "execute_result"
        }
      ],
      "source": [
        "log(10)"
      ]
    },
    {
      "cell_type": "code",
      "execution_count": 8,
      "metadata": {
        "colab": {
          "base_uri": "https://localhost:8080/"
        },
        "collapsed": true,
        "id": "vtcGT50wTR3G",
        "outputId": "0fda2dbc-7167-4801-c547-5b81121fac2b"
      },
      "outputs": [
        {
          "data": {
            "text/plain": [
              "3.3219280948873626"
            ]
          },
          "execution_count": 8,
          "metadata": {},
          "output_type": "execute_result"
        }
      ],
      "source": [
        "log(10, 2)"
      ]
    },
    {
      "cell_type": "code",
      "execution_count": 9,
      "metadata": {
        "colab": {
          "base_uri": "https://localhost:8080/"
        },
        "id": "ryA41tn98j7y",
        "outputId": "7ab74020-1715-4732-82aa-de0431c16c49"
      },
      "outputs": [
        {
          "name": "stdout",
          "output_type": "stream",
          "text": [
            "Help on built-in function cos in module math:\n",
            "\n",
            "cos(x, /)\n",
            "    Return the cosine of x (measured in radians).\n",
            "\n"
          ]
        }
      ],
      "source": [
        "help(cos)"
      ]
    },
    {
      "cell_type": "markdown",
      "metadata": {
        "id": "YtSMX6o6TR3G"
      },
      "source": [
        "We can also use the `help` function directly on modules: Try\n",
        "\n",
        "    help(math)\n",
        "\n",
        "Some very useful modules form the Python standard library are `os`, `sys`, `math`, `shutil`, `re`, `subprocess`, `multiprocessing`, `threading`.\n",
        "\n",
        "A complete lists of standard modules for Python 2 and Python 3 are available at http://docs.python.org/2/library/ and http://docs.python.org/3/library/, respectively."
      ]
    },
    {
      "cell_type": "markdown",
      "metadata": {
        "id": "mMVbWX3GTR3H"
      },
      "source": [
        "## Variables and types"
      ]
    },
    {
      "cell_type": "markdown",
      "metadata": {
        "id": "EE4cgDdPTR3H"
      },
      "source": [
        "### Symbol names"
      ]
    },
    {
      "cell_type": "markdown",
      "metadata": {
        "id": "iFm_ULXqTR3I"
      },
      "source": [
        "Variable names in Python can contain alphanumerical characters `a-z`, `A-Z`, `0-9` and some special characters such as `_`. Normal variable names must start with a letter.\n",
        "\n",
        "By convention, variable names start with a lower-case letter, and Class names start with a capital letter.\n",
        "\n",
        "In addition, there are a number of Python keywords that cannot be used as variable names. These keywords are:\n",
        "\n",
        "    and, as, assert, break, class, continue, def, del, elif, else, except,\n",
        "    exec, finally, for, from, global, if, import, in, is, lambda, not, or,\n",
        "    pass, print, raise, return, try, while, with, yield\n",
        "\n",
        "Note: Be aware of the keyword `lambda`, which could easily be a natural variable name in a scientific program. But being a keyword, it cannot be used as a variable name."
      ]
    },
    {
      "cell_type": "markdown",
      "metadata": {
        "id": "_2aJaFVZTR3I"
      },
      "source": [
        "### Assignment"
      ]
    },
    {
      "cell_type": "markdown",
      "metadata": {
        "id": "1tM7xe71TR3J"
      },
      "source": [
        "\n",
        "\n",
        "The assignment operator in Python is `=`. Python is a dynamically typed language, so we do not need to specify the type of a variable when we create one.\n",
        "\n",
        "Assigning a value to a new variable creates the variable:"
      ]
    },
    {
      "cell_type": "code",
      "execution_count": 10,
      "metadata": {
        "collapsed": true,
        "id": "8O2QH6gVTR3J"
      },
      "outputs": [],
      "source": [
        "# variable assignments\n",
        "x = 1\n",
        "my_variable = 12.2"
      ]
    },
    {
      "cell_type": "markdown",
      "metadata": {
        "id": "TGSFzn0FTR3K"
      },
      "source": [
        "Although not explicitly specified, a variable does have a type associated with it. The type is derived from the value that was assigned to it."
      ]
    },
    {
      "cell_type": "code",
      "execution_count": 11,
      "metadata": {
        "colab": {
          "base_uri": "https://localhost:8080/"
        },
        "id": "3-KvUlxITR3K",
        "outputId": "b19f57e7-5826-4a8b-ffc8-2fc63a8ae04d"
      },
      "outputs": [
        {
          "data": {
            "text/plain": [
              "int"
            ]
          },
          "execution_count": 11,
          "metadata": {},
          "output_type": "execute_result"
        }
      ],
      "source": [
        "type(x)"
      ]
    },
    {
      "cell_type": "markdown",
      "metadata": {
        "id": "EpNSe03NTR3K"
      },
      "source": [
        "If we assign a new value to a variable, its type can change."
      ]
    },
    {
      "cell_type": "code",
      "execution_count": 12,
      "metadata": {
        "collapsed": true,
        "id": "7lYeKhp4TR3L"
      },
      "outputs": [],
      "source": [
        "x = 1"
      ]
    },
    {
      "cell_type": "code",
      "execution_count": 13,
      "metadata": {
        "colab": {
          "base_uri": "https://localhost:8080/"
        },
        "id": "z_YrGlTmTR3L",
        "outputId": "2b0113e1-b429-494d-e030-7d8216869624"
      },
      "outputs": [
        {
          "data": {
            "text/plain": [
              "int"
            ]
          },
          "execution_count": 13,
          "metadata": {},
          "output_type": "execute_result"
        }
      ],
      "source": [
        "type(x)"
      ]
    },
    {
      "cell_type": "markdown",
      "metadata": {
        "id": "fx7VT34KTR3L"
      },
      "source": [
        "If we try to use a variable that has not yet been defined we get an `NameError`:"
      ]
    },
    {
      "cell_type": "code",
      "execution_count": 14,
      "metadata": {
        "colab": {
          "base_uri": "https://localhost:8080/",
          "height": 141
        },
        "id": "CK3c08qgTR3L",
        "outputId": "97730ab9-e7b0-45de-caf6-b7c13f877495"
      },
      "outputs": [
        {
          "ename": "NameError",
          "evalue": "name 'y' is not defined",
          "output_type": "error",
          "traceback": [
            "\u001b[0;31m---------------------------------------------------------------------------\u001b[0m",
            "\u001b[0;31mNameError\u001b[0m                                 Traceback (most recent call last)",
            "\u001b[0;32m<ipython-input-14-d9183e048de3>\u001b[0m in \u001b[0;36m<cell line: 1>\u001b[0;34m()\u001b[0m\n\u001b[0;32m----> 1\u001b[0;31m \u001b[0mprint\u001b[0m\u001b[0;34m(\u001b[0m\u001b[0my\u001b[0m\u001b[0;34m)\u001b[0m\u001b[0;34m\u001b[0m\u001b[0;34m\u001b[0m\u001b[0m\n\u001b[0m",
            "\u001b[0;31mNameError\u001b[0m: name 'y' is not defined"
          ]
        }
      ],
      "source": [
        "print(y)"
      ]
    },
    {
      "cell_type": "markdown",
      "metadata": {
        "id": "R7VnPtHOTR3L"
      },
      "source": [
        "### Fundamental types"
      ]
    },
    {
      "cell_type": "code",
      "execution_count": 80,
      "metadata": {
        "colab": {
          "base_uri": "https://localhost:8080/"
        },
        "collapsed": true,
        "id": "PUS2pt9KTR3M",
        "outputId": "9d7f2915-0dce-4780-9786-7102dbade60a"
      },
      "outputs": [
        {
          "data": {
            "text/plain": [
              "int"
            ]
          },
          "execution_count": 80,
          "metadata": {},
          "output_type": "execute_result"
        }
      ],
      "source": [
        "# integers\n",
        "x = 1\n",
        "type(x)"
      ]
    },
    {
      "cell_type": "code",
      "execution_count": 81,
      "metadata": {
        "colab": {
          "base_uri": "https://localhost:8080/"
        },
        "collapsed": true,
        "id": "-rqncMDZTR3M",
        "outputId": "7b2168cf-8c6b-4371-c248-152a6fc0e766"
      },
      "outputs": [
        {
          "data": {
            "text/plain": [
              "float"
            ]
          },
          "execution_count": 81,
          "metadata": {},
          "output_type": "execute_result"
        }
      ],
      "source": [
        "# float\n",
        "x = 1.0\n",
        "type(x)"
      ]
    },
    {
      "cell_type": "code",
      "execution_count": 82,
      "metadata": {
        "colab": {
          "base_uri": "https://localhost:8080/"
        },
        "collapsed": true,
        "id": "soLkSLwLTR3M",
        "outputId": "42b78da6-0b67-4cc1-bfc0-820510a76c77"
      },
      "outputs": [
        {
          "data": {
            "text/plain": [
              "bool"
            ]
          },
          "execution_count": 82,
          "metadata": {},
          "output_type": "execute_result"
        }
      ],
      "source": [
        "# boolean\n",
        "b1 = True\n",
        "b2 = False\n",
        "\n",
        "type(b1)"
      ]
    },
    {
      "cell_type": "markdown",
      "metadata": {
        "id": "TB9TO10sTR3M"
      },
      "source": [
        "### Type validation"
      ]
    },
    {
      "cell_type": "code",
      "execution_count": 83,
      "metadata": {
        "colab": {
          "base_uri": "https://localhost:8080/"
        },
        "id": "9cUmAJzrTR3N",
        "outputId": "569f88d1-5d1b-4ece-fd1b-7d6ee73d4c09"
      },
      "outputs": [
        {
          "data": {
            "text/plain": [
              "True"
            ]
          },
          "execution_count": 83,
          "metadata": {},
          "output_type": "execute_result"
        }
      ],
      "source": [
        "x = 1.0\n",
        "\n",
        "# check if the variable x is a float\n",
        "type(x) is float"
      ]
    },
    {
      "cell_type": "code",
      "execution_count": 84,
      "metadata": {
        "colab": {
          "base_uri": "https://localhost:8080/"
        },
        "id": "ujotAOBITR3N",
        "outputId": "7a3a1f43-7036-4b4f-d778-88ce0eaffede"
      },
      "outputs": [
        {
          "data": {
            "text/plain": [
              "False"
            ]
          },
          "execution_count": 84,
          "metadata": {},
          "output_type": "execute_result"
        }
      ],
      "source": [
        "# check if the variable x is an int\n",
        "type(x) is int"
      ]
    },
    {
      "cell_type": "markdown",
      "metadata": {
        "id": "3XzTUBS9TR3N"
      },
      "source": [
        "We can also use the `isinstance` method for testing types of variables:"
      ]
    },
    {
      "cell_type": "code",
      "execution_count": 85,
      "metadata": {
        "colab": {
          "base_uri": "https://localhost:8080/"
        },
        "id": "wXYnDaTgTR3N",
        "outputId": "3e8345ff-0163-4520-a036-337967c0a4d3"
      },
      "outputs": [
        {
          "data": {
            "text/plain": [
              "True"
            ]
          },
          "execution_count": 85,
          "metadata": {},
          "output_type": "execute_result"
        }
      ],
      "source": [
        "isinstance(x, float)"
      ]
    },
    {
      "cell_type": "code",
      "execution_count": 86,
      "metadata": {
        "colab": {
          "base_uri": "https://localhost:8080/"
        },
        "id": "y4R8nQrUTR3N",
        "outputId": "04e0b790-9863-4778-aab9-a3788adc5b2e"
      },
      "outputs": [
        {
          "data": {
            "text/plain": [
              "False"
            ]
          },
          "execution_count": 86,
          "metadata": {},
          "output_type": "execute_result"
        }
      ],
      "source": [
        "type(x)==int"
      ]
    },
    {
      "cell_type": "markdown",
      "metadata": {
        "id": "Zc5HmmjtTR3O"
      },
      "source": [
        "### Type casting"
      ]
    },
    {
      "cell_type": "code",
      "execution_count": 87,
      "metadata": {
        "colab": {
          "base_uri": "https://localhost:8080/"
        },
        "collapsed": true,
        "id": "Mgrz0XwhTR3O",
        "outputId": "e6935136-26d9-4e73-e26f-8190a3887c85"
      },
      "outputs": [
        {
          "name": "stdout",
          "output_type": "stream",
          "text": [
            "1.5 <class 'float'>\n"
          ]
        }
      ],
      "source": [
        "x =1.5\n",
        "\n",
        "print(x, type(x))"
      ]
    },
    {
      "cell_type": "code",
      "execution_count": 88,
      "metadata": {
        "colab": {
          "base_uri": "https://localhost:8080/"
        },
        "collapsed": true,
        "id": "BdH37xR6TR3O",
        "outputId": "af224553-7e22-4467-de1c-09a820e64ef7"
      },
      "outputs": [
        {
          "data": {
            "text/plain": [
              "1"
            ]
          },
          "execution_count": 88,
          "metadata": {},
          "output_type": "execute_result"
        }
      ],
      "source": [
        "int(1.5)"
      ]
    },
    {
      "cell_type": "code",
      "execution_count": 89,
      "metadata": {
        "colab": {
          "base_uri": "https://localhost:8080/"
        },
        "collapsed": true,
        "id": "lxvMvZAQTR3O",
        "outputId": "9cef53a0-b0b0-4b65-d157-3421d0512813"
      },
      "outputs": [
        {
          "name": "stdout",
          "output_type": "stream",
          "text": [
            "3.0\n"
          ]
        }
      ],
      "source": [
        "x = float(3)\n",
        "print(x)"
      ]
    },
    {
      "cell_type": "markdown",
      "metadata": {
        "id": "SacLNFMFTR3P"
      },
      "source": [
        "Complex variables cannot be cast to floats or integers. We need to use `z.real` or `z.imag` to extract the part of the complex number we want:"
      ]
    },
    {
      "cell_type": "markdown",
      "metadata": {
        "id": "H2Ay8dfOTR3P"
      },
      "source": [
        "## Operators and comparisons"
      ]
    },
    {
      "cell_type": "markdown",
      "metadata": {
        "id": "IL_svbIOTR3P"
      },
      "source": [
        "Most operators and comparisons in Python work as one would expect:\n",
        "\n",
        "* Arithmetic operators `+`, `-`, `*`, `/`, `//` (integer division), '**' power\n"
      ]
    },
    {
      "cell_type": "code",
      "execution_count": 90,
      "metadata": {
        "colab": {
          "base_uri": "https://localhost:8080/"
        },
        "collapsed": true,
        "id": "PSK-fq-qTR3Q",
        "outputId": "819a0ad0-2a2d-4275-bd47-d3b003e8b9b0"
      },
      "outputs": [
        {
          "data": {
            "text/plain": [
              "(3, -1, 2, 0.5)"
            ]
          },
          "execution_count": 90,
          "metadata": {},
          "output_type": "execute_result"
        }
      ],
      "source": [
        "1 + 2, 1 - 2, 1 * 2, 1 / 2"
      ]
    },
    {
      "cell_type": "code",
      "execution_count": 91,
      "metadata": {
        "colab": {
          "base_uri": "https://localhost:8080/"
        },
        "collapsed": true,
        "id": "_gdYYSLwTR3Q",
        "outputId": "47d26dd3-922b-4fb1-cd93-77f1346c7dbc"
      },
      "outputs": [
        {
          "data": {
            "text/plain": [
              "(3.0, -1.0, 2.0, 1.0, 4)"
            ]
          },
          "execution_count": 91,
          "metadata": {},
          "output_type": "execute_result"
        }
      ],
      "source": [
        "1.0 + 2.0, 1.0 - 2.0, 1.0 * 2.0, 3.0 // 2.0, 2**2"
      ]
    },
    {
      "cell_type": "code",
      "execution_count": 92,
      "metadata": {
        "colab": {
          "base_uri": "https://localhost:8080/"
        },
        "collapsed": true,
        "id": "ufReFu7DTR3Q",
        "outputId": "7b7bdb7a-0e0a-4289-8209-ba93143031a6"
      },
      "outputs": [
        {
          "data": {
            "text/plain": [
              "3.0"
            ]
          },
          "execution_count": 92,
          "metadata": {},
          "output_type": "execute_result"
        }
      ],
      "source": [
        "# Integer division of float numbers\n",
        "7.0 // 2.0"
      ]
    },
    {
      "cell_type": "code",
      "execution_count": 93,
      "metadata": {
        "colab": {
          "base_uri": "https://localhost:8080/"
        },
        "collapsed": true,
        "id": "JEM_1GctTR3R",
        "outputId": "9265247f-192d-4c2b-81ea-ca69271ce27e"
      },
      "outputs": [
        {
          "data": {
            "text/plain": [
              "4"
            ]
          },
          "execution_count": 93,
          "metadata": {},
          "output_type": "execute_result"
        }
      ],
      "source": [
        "# Note! The power operators in python isn't ^, but **\n",
        "2 ** 2"
      ]
    },
    {
      "cell_type": "markdown",
      "metadata": {
        "id": "1j9NHGSrTR3R"
      },
      "source": [
        "Note: The `/` operator always performs a floating point division in Python 3.x.\n",
        "This is not true in Python 2.x, where the result of `/` is always an integer if the operands are integers.\n",
        "to be more specific, `1/2 = 0.5` (`float`) in Python 3.x, and `1/2 = 0` (`int`) in Python 2.x (but `1.0/2 = 0.5` in Python 2.x)."
      ]
    },
    {
      "cell_type": "markdown",
      "metadata": {
        "id": "D8g4Fha2TR3R"
      },
      "source": [
        "* The boolean operators are spelled out as the words `and`, `not`, `or`."
      ]
    },
    {
      "cell_type": "code",
      "execution_count": 94,
      "metadata": {
        "colab": {
          "base_uri": "https://localhost:8080/"
        },
        "collapsed": true,
        "id": "Wm_2c40fTR3R",
        "outputId": "3a8337a0-c8ea-48b5-e8e1-779f08c66243"
      },
      "outputs": [
        {
          "data": {
            "text/plain": [
              "False"
            ]
          },
          "execution_count": 94,
          "metadata": {},
          "output_type": "execute_result"
        }
      ],
      "source": [
        "True and False"
      ]
    },
    {
      "cell_type": "code",
      "execution_count": 95,
      "metadata": {
        "colab": {
          "base_uri": "https://localhost:8080/"
        },
        "collapsed": true,
        "id": "a72dUjV2TR3S",
        "outputId": "dcd1b105-4152-446d-fe13-5bb7a48a66e2"
      },
      "outputs": [
        {
          "data": {
            "text/plain": [
              "True"
            ]
          },
          "execution_count": 95,
          "metadata": {},
          "output_type": "execute_result"
        }
      ],
      "source": [
        "not False"
      ]
    },
    {
      "cell_type": "code",
      "execution_count": 96,
      "metadata": {
        "colab": {
          "base_uri": "https://localhost:8080/"
        },
        "collapsed": true,
        "id": "fZgMw8WfTR3S",
        "outputId": "85ca8a0b-183a-4807-d6ac-d2d5493e3b15"
      },
      "outputs": [
        {
          "data": {
            "text/plain": [
              "True"
            ]
          },
          "execution_count": 96,
          "metadata": {},
          "output_type": "execute_result"
        }
      ],
      "source": [
        "True or False"
      ]
    },
    {
      "cell_type": "markdown",
      "metadata": {
        "id": "jFihQDf9TR3S"
      },
      "source": [
        "* Comparison operators `>`, `<`, `>=` (greater or equal), `<=` (less or equal), `==` equality, `is` identical."
      ]
    },
    {
      "cell_type": "code",
      "execution_count": 97,
      "metadata": {
        "colab": {
          "base_uri": "https://localhost:8080/"
        },
        "collapsed": true,
        "id": "HQlYsliBTR3T",
        "outputId": "89cb6eea-4ac8-4812-b17f-f0bdbf96d808"
      },
      "outputs": [
        {
          "data": {
            "text/plain": [
              "(True, False)"
            ]
          },
          "execution_count": 97,
          "metadata": {},
          "output_type": "execute_result"
        }
      ],
      "source": [
        "2 > 1, 2 < 1"
      ]
    },
    {
      "cell_type": "code",
      "execution_count": 98,
      "metadata": {
        "colab": {
          "base_uri": "https://localhost:8080/"
        },
        "collapsed": true,
        "id": "m5UCnnG4TR3T",
        "outputId": "a71df17a-d84b-4e23-a179-0c38fce071ef"
      },
      "outputs": [
        {
          "data": {
            "text/plain": [
              "(False, False)"
            ]
          },
          "execution_count": 98,
          "metadata": {},
          "output_type": "execute_result"
        }
      ],
      "source": [
        "2 > 2, 2 < 2"
      ]
    },
    {
      "cell_type": "code",
      "execution_count": 99,
      "metadata": {
        "colab": {
          "base_uri": "https://localhost:8080/"
        },
        "collapsed": true,
        "id": "GaaDyei3TR3T",
        "outputId": "058651d4-790d-40d8-cf6c-00c020a2a488"
      },
      "outputs": [
        {
          "data": {
            "text/plain": [
              "(True, True)"
            ]
          },
          "execution_count": 99,
          "metadata": {},
          "output_type": "execute_result"
        }
      ],
      "source": [
        "2 >= 2, 2 <= 2"
      ]
    },
    {
      "cell_type": "code",
      "execution_count": 100,
      "metadata": {
        "colab": {
          "base_uri": "https://localhost:8080/"
        },
        "collapsed": true,
        "id": "MZD7BKS3TR3T",
        "outputId": "747f178c-2514-41e3-be5c-a14d7e0c17a4"
      },
      "outputs": [
        {
          "data": {
            "text/plain": [
              "True"
            ]
          },
          "execution_count": 100,
          "metadata": {},
          "output_type": "execute_result"
        }
      ],
      "source": [
        "2!=3"
      ]
    },
    {
      "cell_type": "code",
      "execution_count": 101,
      "metadata": {
        "colab": {
          "base_uri": "https://localhost:8080/"
        },
        "collapsed": true,
        "id": "2mfYdmCiTR3U",
        "outputId": "16d4862e-dc5e-418f-f6b2-1873a1e56324"
      },
      "outputs": [
        {
          "data": {
            "text/plain": [
              "True"
            ]
          },
          "execution_count": 101,
          "metadata": {},
          "output_type": "execute_result"
        }
      ],
      "source": [
        "# equality\n",
        "[1,2] == [1,2]\n",
        "#[1,2] == [2,1]"
      ]
    },
    {
      "cell_type": "code",
      "execution_count": 102,
      "metadata": {
        "colab": {
          "base_uri": "https://localhost:8080/"
        },
        "collapsed": true,
        "id": "yYqRjW3iTR3U",
        "outputId": "3f8ff180-725e-4591-947a-6e92e35ff03e"
      },
      "outputs": [
        {
          "data": {
            "text/plain": [
              "True"
            ]
          },
          "execution_count": 102,
          "metadata": {},
          "output_type": "execute_result"
        }
      ],
      "source": [
        "{2,3} == {3,2}\n"
      ]
    },
    {
      "cell_type": "markdown",
      "metadata": {
        "id": "_PzvjH7bTR3U"
      },
      "source": [
        "## Compound types: Strings, List and dictionaries"
      ]
    },
    {
      "cell_type": "markdown",
      "metadata": {
        "id": "_K3O-kkBTR3U"
      },
      "source": [
        "### Strings"
      ]
    },
    {
      "cell_type": "markdown",
      "metadata": {
        "id": "u_GfXgKETR3V"
      },
      "source": [
        "Strings are the variable type that is used for storing text messages."
      ]
    },
    {
      "cell_type": "code",
      "execution_count": 103,
      "metadata": {
        "colab": {
          "base_uri": "https://localhost:8080/"
        },
        "collapsed": true,
        "id": "NW9MoWIdTR3V",
        "outputId": "f4463987-fcbd-4b1f-805f-ebd6fee47ee0"
      },
      "outputs": [
        {
          "data": {
            "text/plain": [
              "str"
            ]
          },
          "execution_count": 103,
          "metadata": {},
          "output_type": "execute_result"
        }
      ],
      "source": [
        "s = \"Hello world\"\n",
        "type(s)"
      ]
    },
    {
      "cell_type": "code",
      "execution_count": 104,
      "metadata": {
        "colab": {
          "base_uri": "https://localhost:8080/"
        },
        "collapsed": true,
        "id": "q3-o-n66TR3V",
        "outputId": "adcee022-62ff-482b-ecde-a969a8e5afdd"
      },
      "outputs": [
        {
          "data": {
            "text/plain": [
              "11"
            ]
          },
          "execution_count": 104,
          "metadata": {},
          "output_type": "execute_result"
        }
      ],
      "source": [
        "# length of the string: the number of characters\n",
        "len(s)"
      ]
    },
    {
      "cell_type": "code",
      "execution_count": 105,
      "metadata": {
        "colab": {
          "base_uri": "https://localhost:8080/"
        },
        "collapsed": true,
        "id": "Jpak69YPTR3V",
        "outputId": "c55bf15b-625e-4c60-c886-02bc920398b2"
      },
      "outputs": [
        {
          "name": "stdout",
          "output_type": "stream",
          "text": [
            "Hello test\n"
          ]
        }
      ],
      "source": [
        "# replace a substring in a string with something else\n",
        "s2 = s.replace(\"world\", \"test\")\n",
        "print(s2)"
      ]
    },
    {
      "cell_type": "code",
      "execution_count": 106,
      "metadata": {
        "colab": {
          "base_uri": "https://localhost:8080/"
        },
        "collapsed": true,
        "id": "jgFXgRlTTR3W",
        "outputId": "d201a17e-1e02-4500-e085-b753f9581d4f"
      },
      "outputs": [
        {
          "name": "stdout",
          "output_type": "stream",
          "text": [
            "Hello world\n"
          ]
        }
      ],
      "source": [
        "st = \"hello ______________________world\"\n",
        "\n",
        "## remove \"_\" from st\n",
        "s2 = s.replace(\"______________________\", \"\")\n",
        "print(s2)\n"
      ]
    },
    {
      "cell_type": "markdown",
      "metadata": {
        "id": "euWcm250TR3W"
      },
      "source": [
        "We can index a character in a string using `[]`:"
      ]
    },
    {
      "cell_type": "code",
      "execution_count": 107,
      "metadata": {
        "colab": {
          "base_uri": "https://localhost:8080/",
          "height": 35
        },
        "collapsed": true,
        "id": "T5Zu3DvWTR3W",
        "outputId": "feef7c9a-b6d3-486b-9f02-34dc94c30316"
      },
      "outputs": [
        {
          "data": {
            "application/vnd.google.colaboratory.intrinsic+json": {
              "type": "string"
            },
            "text/plain": [
              "'H'"
            ]
          },
          "execution_count": 107,
          "metadata": {},
          "output_type": "execute_result"
        }
      ],
      "source": [
        "s[0]"
      ]
    },
    {
      "cell_type": "markdown",
      "metadata": {
        "id": "dL7wKtBiTR3W"
      },
      "source": [
        "We can extract a part of a string using the syntax `[start:stop]`, which extracts characters between index `start` and `stop` -1 (the character at index `stop` is not included):"
      ]
    },
    {
      "cell_type": "code",
      "execution_count": 108,
      "metadata": {
        "colab": {
          "base_uri": "https://localhost:8080/",
          "height": 35
        },
        "collapsed": true,
        "id": "RJ8v3RXOTR3W",
        "outputId": "74b514fa-0117-44a0-c37a-a9a544ee6ed1"
      },
      "outputs": [
        {
          "data": {
            "application/vnd.google.colaboratory.intrinsic+json": {
              "type": "string"
            },
            "text/plain": [
              "'Hello'"
            ]
          },
          "execution_count": 108,
          "metadata": {},
          "output_type": "execute_result"
        }
      ],
      "source": [
        "s[0:5]"
      ]
    },
    {
      "cell_type": "code",
      "execution_count": 109,
      "metadata": {
        "colab": {
          "base_uri": "https://localhost:8080/",
          "height": 35
        },
        "collapsed": true,
        "id": "nX_oYQA2TR3X",
        "outputId": "1586d5f0-c1f0-47d1-d995-2c276bdd26a2"
      },
      "outputs": [
        {
          "data": {
            "application/vnd.google.colaboratory.intrinsic+json": {
              "type": "string"
            },
            "text/plain": [
              "'o'"
            ]
          },
          "execution_count": 109,
          "metadata": {},
          "output_type": "execute_result"
        }
      ],
      "source": [
        "s[4:5]"
      ]
    },
    {
      "cell_type": "markdown",
      "metadata": {
        "id": "wi2JFJhnTR3X"
      },
      "source": [
        "If we omit either (or both) of `start` or `stop` from `[start:stop]`, the default is the beginning and the end of the string, respectively:"
      ]
    },
    {
      "cell_type": "code",
      "execution_count": 110,
      "metadata": {
        "colab": {
          "base_uri": "https://localhost:8080/",
          "height": 35
        },
        "collapsed": true,
        "id": "fYkDH-AaTR3X",
        "outputId": "c16ed061-29f4-485c-8f7b-5f530077d80e"
      },
      "outputs": [
        {
          "data": {
            "application/vnd.google.colaboratory.intrinsic+json": {
              "type": "string"
            },
            "text/plain": [
              "'Hello'"
            ]
          },
          "execution_count": 110,
          "metadata": {},
          "output_type": "execute_result"
        }
      ],
      "source": [
        "s[:5]"
      ]
    },
    {
      "cell_type": "code",
      "execution_count": 111,
      "metadata": {
        "colab": {
          "base_uri": "https://localhost:8080/",
          "height": 35
        },
        "collapsed": true,
        "id": "WLgUXTxdTR3X",
        "outputId": "80b57f0a-4e01-413f-f5f6-567a4ae6cee4"
      },
      "outputs": [
        {
          "data": {
            "application/vnd.google.colaboratory.intrinsic+json": {
              "type": "string"
            },
            "text/plain": [
              "'world'"
            ]
          },
          "execution_count": 111,
          "metadata": {},
          "output_type": "execute_result"
        }
      ],
      "source": [
        "s[6:]"
      ]
    },
    {
      "cell_type": "code",
      "execution_count": 112,
      "metadata": {
        "colab": {
          "base_uri": "https://localhost:8080/",
          "height": 35
        },
        "collapsed": true,
        "id": "l61wob7NTR3X",
        "outputId": "f735b560-7f98-45db-aac6-04ab7871c41f"
      },
      "outputs": [
        {
          "data": {
            "application/vnd.google.colaboratory.intrinsic+json": {
              "type": "string"
            },
            "text/plain": [
              "'Hello world'"
            ]
          },
          "execution_count": 112,
          "metadata": {},
          "output_type": "execute_result"
        }
      ],
      "source": [
        "s[:]"
      ]
    },
    {
      "cell_type": "markdown",
      "metadata": {
        "id": "fqTVgA94TR3X"
      },
      "source": [
        "We can also define the step size using the syntax `[start:end:step]` (the default value for `step` is 1, as we saw above):"
      ]
    },
    {
      "cell_type": "code",
      "execution_count": 113,
      "metadata": {
        "colab": {
          "base_uri": "https://localhost:8080/",
          "height": 35
        },
        "collapsed": true,
        "id": "4-byKt0GTR3Y",
        "outputId": "8153c4c6-2242-4ade-c71b-679bdc480dfe"
      },
      "outputs": [
        {
          "data": {
            "application/vnd.google.colaboratory.intrinsic+json": {
              "type": "string"
            },
            "text/plain": [
              "'Hello world'"
            ]
          },
          "execution_count": 113,
          "metadata": {},
          "output_type": "execute_result"
        }
      ],
      "source": [
        "s[::1]"
      ]
    },
    {
      "cell_type": "code",
      "execution_count": 114,
      "metadata": {
        "colab": {
          "base_uri": "https://localhost:8080/",
          "height": 35
        },
        "collapsed": true,
        "id": "snkRNJ5cTR3Y",
        "outputId": "d56b1cdf-e055-43ab-cdde-446e0e0fe769"
      },
      "outputs": [
        {
          "data": {
            "application/vnd.google.colaboratory.intrinsic+json": {
              "type": "string"
            },
            "text/plain": [
              "'Hlowrd'"
            ]
          },
          "execution_count": 114,
          "metadata": {},
          "output_type": "execute_result"
        }
      ],
      "source": [
        "s[::2]"
      ]
    },
    {
      "cell_type": "markdown",
      "metadata": {
        "id": "gmkXvcPTTR3Y"
      },
      "source": [
        "#### String formatting examples \"fstrings\""
      ]
    },
    {
      "cell_type": "code",
      "execution_count": 115,
      "metadata": {
        "collapsed": true,
        "id": "y2eq5ryGTR3Z"
      },
      "outputs": [],
      "source": [
        "a = \"Hello\"\n",
        "b = 1000\n",
        "c = 9.5"
      ]
    },
    {
      "cell_type": "code",
      "execution_count": 116,
      "metadata": {
        "colab": {
          "base_uri": "https://localhost:8080/"
        },
        "collapsed": true,
        "id": "hDJUMmydTR3Z",
        "outputId": "757b1499-d1f8-40bc-b398-1632575a5d1b"
      },
      "outputs": [
        {
          "name": "stdout",
          "output_type": "stream",
          "text": [
            "variable a = Hello \n",
            "variable b = 1000 \n",
            "variable c = 9.5\n"
          ]
        }
      ],
      "source": [
        "print(f\"variable a = {a} \\nvariable b = {b} \\nvariable c = {c}\")"
      ]
    },
    {
      "cell_type": "markdown",
      "metadata": {
        "id": "l1rhQKg6TR3Z"
      },
      "source": [
        "### List"
      ]
    },
    {
      "cell_type": "markdown",
      "metadata": {
        "id": "OpcKQXxoTR3Z"
      },
      "source": [
        "Lists are very similar to strings, except that each element can be of any type.\n",
        "\n",
        "The syntax for creating lists in Python is `[...]`:"
      ]
    },
    {
      "cell_type": "code",
      "execution_count": 117,
      "metadata": {
        "colab": {
          "base_uri": "https://localhost:8080/"
        },
        "collapsed": true,
        "id": "cNHthTs-TR3Z",
        "outputId": "972371ed-ae56-441c-f906-aedd9cc65889"
      },
      "outputs": [
        {
          "name": "stdout",
          "output_type": "stream",
          "text": [
            "<class 'list'>\n",
            "[1, 2, 3, 4]\n"
          ]
        }
      ],
      "source": [
        "l = [1,2,3,4]\n",
        "\n",
        "print(type(l))\n",
        "\n",
        "print(l)"
      ]
    },
    {
      "cell_type": "markdown",
      "metadata": {
        "id": "VePS5luQTR3Z"
      },
      "source": [
        "We can use the same slicing techniques to manipulate lists as we could use on strings:"
      ]
    },
    {
      "cell_type": "markdown",
      "metadata": {
        "id": "ULgPjgamOJst"
      },
      "source": [
        "![fig1.png](data:image/png;base64,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)"
      ]
    },
    {
      "cell_type": "code",
      "execution_count": 118,
      "metadata": {
        "colab": {
          "base_uri": "https://localhost:8080/"
        },
        "collapsed": true,
        "id": "vgtAhLkmTR3Z",
        "outputId": "81ebf60a-25c0-44f2-9c41-e6ac70bd7517"
      },
      "outputs": [
        {
          "name": "stdout",
          "output_type": "stream",
          "text": [
            "[1, 2, 3, 4]\n",
            "[2, 3]\n",
            "[1, 3]\n",
            "[4, 3, 2, 1]\n"
          ]
        }
      ],
      "source": [
        "print(l)\n",
        "\n",
        "print(l[1:3])\n",
        "\n",
        "print(l[::2])\n",
        "\n",
        "print(l[::-1])"
      ]
    },
    {
      "cell_type": "code",
      "execution_count": 119,
      "metadata": {
        "colab": {
          "base_uri": "https://localhost:8080/"
        },
        "collapsed": true,
        "id": "EGSadz4WTR3a",
        "outputId": "843c1940-d049-4ab6-b843-621edece5c31"
      },
      "outputs": [
        {
          "data": {
            "text/plain": [
              "1"
            ]
          },
          "execution_count": 119,
          "metadata": {},
          "output_type": "execute_result"
        }
      ],
      "source": [
        "l[0]"
      ]
    },
    {
      "cell_type": "markdown",
      "metadata": {
        "id": "iNsGTXHETR3a"
      },
      "source": [
        "Elements in a list do not all have to be of the same type:"
      ]
    },
    {
      "cell_type": "code",
      "execution_count": 120,
      "metadata": {
        "colab": {
          "base_uri": "https://localhost:8080/"
        },
        "collapsed": true,
        "id": "xnRrpvzyTR3a",
        "outputId": "2dea9cdc-adfc-48c1-e542-f729bee7cd67"
      },
      "outputs": [
        {
          "name": "stdout",
          "output_type": "stream",
          "text": [
            "[1, 'a', 1.0, (1-1j)]\n"
          ]
        }
      ],
      "source": [
        "l = [1, 'a', 1.0, 1-1j]\n",
        "\n",
        "print(l)"
      ]
    },
    {
      "cell_type": "markdown",
      "metadata": {
        "id": "V6DQJUVDTR3a"
      },
      "source": [
        "Python lists can be inhomogeneous and arbitrarily nested:"
      ]
    },
    {
      "cell_type": "code",
      "execution_count": 121,
      "metadata": {
        "colab": {
          "base_uri": "https://localhost:8080/"
        },
        "collapsed": true,
        "id": "cT4ESROUTR3a",
        "outputId": "a4b05ba6-53f7-4576-923a-0c78c1893d11"
      },
      "outputs": [
        {
          "data": {
            "text/plain": [
              "[[1, 2], [3, 4]]"
            ]
          },
          "execution_count": 121,
          "metadata": {},
          "output_type": "execute_result"
        }
      ],
      "source": [
        "nested_list = [[1,2],[3,4]]\n",
        "\n",
        "nested_list"
      ]
    },
    {
      "cell_type": "code",
      "execution_count": 122,
      "metadata": {
        "colab": {
          "base_uri": "https://localhost:8080/"
        },
        "collapsed": true,
        "id": "EMmAiMstTR3a",
        "outputId": "46fe2158-d9d1-4ba5-df42-7acc7e79234f"
      },
      "outputs": [
        {
          "name": "stdout",
          "output_type": "stream",
          "text": [
            "1\n"
          ]
        }
      ],
      "source": [
        "print(nested_list[0][0])"
      ]
    },
    {
      "cell_type": "markdown",
      "metadata": {
        "id": "xI60ENd-TR3b"
      },
      "source": [
        "Lists play a very important role in Python. For example they are used in loops and other flow control structures (discussed below). There are a number of convenient functions for generating lists of various types, for example the `range` function:"
      ]
    },
    {
      "cell_type": "code",
      "execution_count": 123,
      "metadata": {
        "colab": {
          "base_uri": "https://localhost:8080/"
        },
        "collapsed": true,
        "id": "WbGnjzYqTR3b",
        "outputId": "51a73613-fa01-434a-e9ce-f7f146b5f9f4"
      },
      "outputs": [
        {
          "data": {
            "text/plain": [
              "range(10, 30, 2)"
            ]
          },
          "execution_count": 123,
          "metadata": {},
          "output_type": "execute_result"
        }
      ],
      "source": [
        "start = 10\n",
        "stop = 30\n",
        "step = 2\n",
        "\n",
        "range(start, stop, step)"
      ]
    },
    {
      "cell_type": "code",
      "execution_count": 124,
      "metadata": {
        "colab": {
          "base_uri": "https://localhost:8080/"
        },
        "collapsed": true,
        "id": "_VShPhq6TR3b",
        "outputId": "69be6d1a-3759-4330-df48-f09d6f164466"
      },
      "outputs": [
        {
          "data": {
            "text/plain": [
              "[10, 12, 14, 16, 18, 20, 22, 24, 26, 28]"
            ]
          },
          "execution_count": 124,
          "metadata": {},
          "output_type": "execute_result"
        }
      ],
      "source": [
        "# in python 3 range generates an iterator, which can be converted to a list using 'list(...)'.\n",
        "# It has no effect in python 2\n",
        "list(range(start, stop, step))"
      ]
    },
    {
      "cell_type": "code",
      "execution_count": 125,
      "metadata": {
        "colab": {
          "base_uri": "https://localhost:8080/"
        },
        "collapsed": true,
        "id": "dw_G-Z0uTR3b",
        "outputId": "c35a868c-4b71-4b53-f15b-bce864261876"
      },
      "outputs": [
        {
          "data": {
            "text/plain": [
              "[-10, -9, -8, -7, -6, -5, -4, -3, -2, -1, 0, 1, 2, 3, 4, 5, 6, 7, 8, 9]"
            ]
          },
          "execution_count": 125,
          "metadata": {},
          "output_type": "execute_result"
        }
      ],
      "source": [
        "list(range(-10, 10))"
      ]
    },
    {
      "cell_type": "code",
      "execution_count": 126,
      "metadata": {
        "collapsed": true,
        "id": "KUPbK7-vTR3c"
      },
      "outputs": [],
      "source": [
        "s = \"hello world\""
      ]
    },
    {
      "cell_type": "code",
      "execution_count": 127,
      "metadata": {
        "colab": {
          "base_uri": "https://localhost:8080/"
        },
        "collapsed": true,
        "id": "4n41QD2WTR3c",
        "outputId": "0354c663-3135-4105-cb75-4e3add949ee4"
      },
      "outputs": [
        {
          "data": {
            "text/plain": [
              "['h', 'e', 'l', 'l', 'o', ' ', 'w', 'o', 'r', 'l', 'd']"
            ]
          },
          "execution_count": 127,
          "metadata": {},
          "output_type": "execute_result"
        }
      ],
      "source": [
        "# convert a string to a list by type casting:\n",
        "s2 = list(s)\n",
        "\n",
        "s2"
      ]
    },
    {
      "cell_type": "code",
      "execution_count": 128,
      "metadata": {
        "colab": {
          "base_uri": "https://localhost:8080/"
        },
        "collapsed": true,
        "id": "oCvSugS3TR3c",
        "outputId": "4172017e-3fe9-4526-d44e-c53e41fedc7e"
      },
      "outputs": [
        {
          "name": "stdout",
          "output_type": "stream",
          "text": [
            "[' ', 'd', 'e', 'h', 'l', 'l', 'l', 'o', 'o', 'r', 'w']\n"
          ]
        }
      ],
      "source": [
        "# sorting lists\n",
        "s2.sort()\n",
        "\n",
        "print(s2)"
      ]
    },
    {
      "cell_type": "markdown",
      "metadata": {
        "id": "nyNWtdpSTR3c"
      },
      "source": [
        "#### Adding, inserting, modifying, and removing elements from lists"
      ]
    },
    {
      "cell_type": "code",
      "execution_count": 129,
      "metadata": {
        "colab": {
          "base_uri": "https://localhost:8080/"
        },
        "collapsed": true,
        "id": "rZsQmk5xTR3d",
        "outputId": "b171b110-bb3e-491b-a8e4-6b611554dfd1"
      },
      "outputs": [
        {
          "name": "stdout",
          "output_type": "stream",
          "text": [
            "['A', 'd', 'd']\n"
          ]
        }
      ],
      "source": [
        "# create a new empty list\n",
        "l = []\n",
        "\n",
        "# add an elements using `append`\n",
        "l.append(\"A\")\n",
        "l.append(\"d\")\n",
        "l.append(\"d\")\n",
        "\n",
        "print(l)"
      ]
    },
    {
      "cell_type": "markdown",
      "metadata": {
        "id": "r4hQuHKLTR3d"
      },
      "source": [
        "We can modify lists by assigning new values to elements in the list. In technical jargon, lists are *mutable*."
      ]
    },
    {
      "cell_type": "code",
      "execution_count": 130,
      "metadata": {
        "colab": {
          "base_uri": "https://localhost:8080/"
        },
        "collapsed": true,
        "id": "5wlLT7C6TR3d",
        "outputId": "f6700a56-e01a-488d-a589-ca2190fe4561"
      },
      "outputs": [
        {
          "name": "stdout",
          "output_type": "stream",
          "text": [
            "['A', 'p', 'p']\n"
          ]
        }
      ],
      "source": [
        "l[1] = \"p\"\n",
        "l[2] = \"p\"\n",
        "\n",
        "print(l)"
      ]
    },
    {
      "cell_type": "code",
      "execution_count": 131,
      "metadata": {
        "colab": {
          "base_uri": "https://localhost:8080/"
        },
        "collapsed": true,
        "id": "l6ZbFrmLTR3d",
        "outputId": "f2dbbd46-235a-493e-b46a-b758e4d67ce4"
      },
      "outputs": [
        {
          "name": "stdout",
          "output_type": "stream",
          "text": [
            "['A', 'd', 'd']\n"
          ]
        }
      ],
      "source": [
        "l[1:3] = [\"d\", \"d\"]\n",
        "\n",
        "print(l)"
      ]
    },
    {
      "cell_type": "markdown",
      "metadata": {
        "id": "5HglCs91TR3e"
      },
      "source": [
        "Insert an element at an specific index using `insert`"
      ]
    },
    {
      "cell_type": "code",
      "execution_count": 132,
      "metadata": {
        "colab": {
          "base_uri": "https://localhost:8080/"
        },
        "id": "FteoX79YTR3e",
        "outputId": "37ba2178-b81c-4261-e664-8fe807d0b551"
      },
      "outputs": [
        {
          "name": "stdout",
          "output_type": "stream",
          "text": [
            "['i', 'n', 's', 'e', 'r', 't', 'A', 'd', 'd']\n"
          ]
        }
      ],
      "source": [
        "l.insert(0, \"i\")\n",
        "l.insert(1, \"n\")\n",
        "l.insert(2, \"s\")\n",
        "l.insert(3, \"e\")\n",
        "l.insert(4, \"r\")\n",
        "l.insert(5, \"t\")\n",
        "\n",
        "print(l)"
      ]
    },
    {
      "cell_type": "markdown",
      "metadata": {
        "id": "7nouY6hkTR3e"
      },
      "source": [
        "Remove first element with specific value using 'remove'"
      ]
    },
    {
      "cell_type": "code",
      "execution_count": 133,
      "metadata": {
        "colab": {
          "base_uri": "https://localhost:8080/"
        },
        "collapsed": true,
        "id": "vZZo1uKDTR3e",
        "outputId": "00ecb889-a0e8-4414-9757-abdc68cb4756"
      },
      "outputs": [
        {
          "name": "stdout",
          "output_type": "stream",
          "text": [
            "['i', 'n', 's', 'e', 'r', 't', 'A', 'd']\n"
          ]
        }
      ],
      "source": [
        "l.remove(\"d\")\n",
        "\n",
        "print(l)"
      ]
    },
    {
      "cell_type": "markdown",
      "metadata": {
        "id": "EOqG6hy9TR3f"
      },
      "source": [
        "Remove an element at a specific location using `del`:"
      ]
    },
    {
      "cell_type": "code",
      "execution_count": 134,
      "metadata": {
        "colab": {
          "base_uri": "https://localhost:8080/"
        },
        "collapsed": true,
        "id": "UsIXmKCTTR3f",
        "outputId": "699ff5df-096c-40fc-980e-5a5c0adf3818"
      },
      "outputs": [
        {
          "name": "stdout",
          "output_type": "stream",
          "text": [
            "['i', 'n', 's', 'e', 'r', 't']\n"
          ]
        }
      ],
      "source": [
        "del l[7]\n",
        "del l[6]\n",
        "\n",
        "print(l)"
      ]
    },
    {
      "cell_type": "markdown",
      "metadata": {
        "id": "rALk1sd3TR3f"
      },
      "source": [
        "See `help(list)` for more details, or read the online documentation"
      ]
    },
    {
      "cell_type": "markdown",
      "metadata": {
        "id": "5Qn2jU_pL9gL"
      },
      "source": [
        "When programming, frequently we want to transform one type of data into another. As a simple example, consider the following code that computes square numbers:"
      ]
    },
    {
      "cell_type": "code",
      "execution_count": null,
      "metadata": {
        "colab": {
          "base_uri": "https://localhost:8080/",
          "height": 34
        },
        "id": "IVNEwoMXL9gL",
        "outputId": "d571445b-055d-45f0-f800-24fd76ceec5a"
      },
      "outputs": [
        {
          "name": "stdout",
          "output_type": "stream",
          "text": [
            "[0, 1, 4, 9, 16]\n"
          ]
        }
      ],
      "source": [
        "nums = [0, 1, 2, 3, 4]\n",
        "squares = []\n",
        "for x in nums:\n",
        "    squares.append(x ** 2)\n",
        "print(squares)"
      ]
    },
    {
      "cell_type": "markdown",
      "metadata": {
        "id": "7DmKVUFaL9gQ"
      },
      "source": [
        "You can make this code simpler using a list comprehension:"
      ]
    },
    {
      "cell_type": "code",
      "execution_count": null,
      "metadata": {
        "colab": {
          "base_uri": "https://localhost:8080/",
          "height": 34
        },
        "id": "kZxsUfV6L9gR",
        "outputId": "4254a7d4-58ba-4f70-a963-20c46b485b72"
      },
      "outputs": [
        {
          "name": "stdout",
          "output_type": "stream",
          "text": [
            "[0, 1, 4, 9, 16]\n"
          ]
        }
      ],
      "source": [
        "nums = [0, 1, 2, 3, 4]\n",
        "squares = [x ** 2 for x in nums]\n",
        "print(squares)"
      ]
    },
    {
      "cell_type": "markdown",
      "metadata": {
        "id": "-D8ARK7tL9gV"
      },
      "source": [
        "List comprehensions can also contain conditions:"
      ]
    },
    {
      "cell_type": "code",
      "execution_count": null,
      "metadata": {
        "colab": {
          "base_uri": "https://localhost:8080/",
          "height": 34
        },
        "id": "yUtgOyyYL9gV",
        "outputId": "1ae7ab58-8119-44dc-8e57-fda09197d026"
      },
      "outputs": [
        {
          "name": "stdout",
          "output_type": "stream",
          "text": [
            "[0, 4, 16]\n"
          ]
        }
      ],
      "source": [
        "nums = [0, 1, 2, 3, 4]\n",
        "even_squares = [x ** 2 for x in nums if x % 2 == 0]\n",
        "print(even_squares)"
      ]
    },
    {
      "cell_type": "markdown",
      "metadata": {
        "id": "br-uO-1-TR3f"
      },
      "source": [
        "### Tuples"
      ]
    },
    {
      "cell_type": "markdown",
      "metadata": {
        "id": "4NflhYZdTR3f"
      },
      "source": [
        "Tuples are like lists, except that they cannot be modified once created, that is they are *immutable*.\n",
        "\n",
        "In Python, tuples are created using the syntax `(..., ..., ...)`, or even `..., ...`:"
      ]
    },
    {
      "cell_type": "code",
      "execution_count": 135,
      "metadata": {
        "colab": {
          "base_uri": "https://localhost:8080/"
        },
        "collapsed": true,
        "id": "MFrelwi3TR3g",
        "outputId": "d613ca99-0fbd-4c59-8749-b0a04068d1cb"
      },
      "outputs": [
        {
          "name": "stdout",
          "output_type": "stream",
          "text": [
            "(10, 20) <class 'tuple'>\n"
          ]
        }
      ],
      "source": [
        "point = (10, 20)\n",
        "\n",
        "print(point, type(point))"
      ]
    },
    {
      "cell_type": "code",
      "execution_count": 136,
      "metadata": {
        "colab": {
          "base_uri": "https://localhost:8080/"
        },
        "collapsed": true,
        "id": "3l_FMPdzTR3g",
        "outputId": "0759f250-2d1e-4d8b-b258-8fef2dd08e70"
      },
      "outputs": [
        {
          "name": "stdout",
          "output_type": "stream",
          "text": [
            "(10, 20) <class 'tuple'>\n"
          ]
        }
      ],
      "source": [
        "point = 10, 20\n",
        "\n",
        "print(point, type(point))"
      ]
    },
    {
      "cell_type": "markdown",
      "metadata": {
        "id": "YmiFd1oUTR3g"
      },
      "source": [
        "We can unpack a tuple by assigning it to a comma-separated list of variables:"
      ]
    },
    {
      "cell_type": "code",
      "execution_count": 137,
      "metadata": {
        "colab": {
          "base_uri": "https://localhost:8080/"
        },
        "collapsed": true,
        "id": "UOmNKw-4TR3g",
        "outputId": "3796b559-e21f-4c01-c805-bbb4e8aee513"
      },
      "outputs": [
        {
          "name": "stdout",
          "output_type": "stream",
          "text": [
            "x = 10\n",
            "y = 20\n"
          ]
        }
      ],
      "source": [
        "x, y = point\n",
        "\n",
        "print(\"x =\", x)\n",
        "print(\"y =\", y)"
      ]
    },
    {
      "cell_type": "markdown",
      "metadata": {
        "id": "OvXKka-1TR3h"
      },
      "source": [
        "If we try to assign a new value to an element in a tuple we get an error:"
      ]
    },
    {
      "cell_type": "code",
      "execution_count": 138,
      "metadata": {
        "colab": {
          "base_uri": "https://localhost:8080/",
          "height": 141
        },
        "collapsed": true,
        "id": "fOSxAHtLTR3h",
        "outputId": "c8befc1d-acb5-407d-98ff-f0230355e414"
      },
      "outputs": [
        {
          "ename": "TypeError",
          "evalue": "'tuple' object does not support item assignment",
          "output_type": "error",
          "traceback": [
            "\u001b[0;31m---------------------------------------------------------------------------\u001b[0m",
            "\u001b[0;31mTypeError\u001b[0m                                 Traceback (most recent call last)",
            "\u001b[0;32m<ipython-input-138-9734b1daa940>\u001b[0m in \u001b[0;36m<cell line: 1>\u001b[0;34m()\u001b[0m\n\u001b[0;32m----> 1\u001b[0;31m \u001b[0mpoint\u001b[0m\u001b[0;34m[\u001b[0m\u001b[0;36m0\u001b[0m\u001b[0;34m]\u001b[0m \u001b[0;34m=\u001b[0m \u001b[0;36m20\u001b[0m\u001b[0;34m\u001b[0m\u001b[0;34m\u001b[0m\u001b[0m\n\u001b[0m",
            "\u001b[0;31mTypeError\u001b[0m: 'tuple' object does not support item assignment"
          ]
        }
      ],
      "source": [
        "point[0] = 20"
      ]
    },
    {
      "cell_type": "markdown",
      "metadata": {
        "id": "MxY4ZlAg-qOY"
      },
      "source": [
        "The error message TypeError: 'tuple' object does not support item assignment indicates that you are trying to modify an element of a tuple, which is not allowed. Tuples are immutable in Python, meaning their elements cannot be changed."
      ]
    },
    {
      "cell_type": "code",
      "execution_count": 139,
      "metadata": {
        "colab": {
          "base_uri": "https://localhost:8080/"
        },
        "collapsed": true,
        "id": "rgmcLIDfTR3h",
        "outputId": "70805442-e44e-4817-9a8a-dfd130bf3b03"
      },
      "outputs": [
        {
          "name": "stdout",
          "output_type": "stream",
          "text": [
            "([1, 2, 3], 'Hello')\n"
          ]
        }
      ],
      "source": [
        "## try a tuple containing a list\n",
        "t = ([1,2,3], 'Hello')\n",
        "print(t)"
      ]
    },
    {
      "cell_type": "code",
      "execution_count": 140,
      "metadata": {
        "colab": {
          "base_uri": "https://localhost:8080/",
          "height": 159
        },
        "collapsed": true,
        "id": "pkUOWEXCTR3h",
        "outputId": "3daaf99d-f9c4-4425-83a0-b4804797a47a"
      },
      "outputs": [
        {
          "ename": "TypeError",
          "evalue": "'tuple' object does not support item assignment",
          "output_type": "error",
          "traceback": [
            "\u001b[0;31m---------------------------------------------------------------------------\u001b[0m",
            "\u001b[0;31mTypeError\u001b[0m                                 Traceback (most recent call last)",
            "\u001b[0;32m<ipython-input-140-4b1a9a314c5b>\u001b[0m in \u001b[0;36m<cell line: 2>\u001b[0;34m()\u001b[0m\n\u001b[1;32m      1\u001b[0m \u001b[0;31m#change the list to [4,5]\u001b[0m\u001b[0;34m\u001b[0m\u001b[0;34m\u001b[0m\u001b[0m\n\u001b[0;32m----> 2\u001b[0;31m \u001b[0mt\u001b[0m\u001b[0;34m[\u001b[0m\u001b[0;36m0\u001b[0m\u001b[0;34m]\u001b[0m\u001b[0;34m=\u001b[0m\u001b[0;34m[\u001b[0m\u001b[0;36m4\u001b[0m\u001b[0;34m,\u001b[0m\u001b[0;36m5\u001b[0m\u001b[0;34m]\u001b[0m\u001b[0;34m\u001b[0m\u001b[0;34m\u001b[0m\u001b[0m\n\u001b[0m",
            "\u001b[0;31mTypeError\u001b[0m: 'tuple' object does not support item assignment"
          ]
        }
      ],
      "source": [
        "#change the list to [4,5]\n",
        "t[0]=[4,5]\n"
      ]
    },
    {
      "cell_type": "markdown",
      "metadata": {
        "id": "oTX9_bi7TR3h"
      },
      "source": [
        "### Dictionaries"
      ]
    },
    {
      "cell_type": "markdown",
      "metadata": {
        "id": "wk2K2TibTR3i"
      },
      "source": [
        "Dictionaries are also like lists, except that each element is a key-value pair. The syntax for dictionaries is `{key1 : value1, ...}`:\n",
        "Dictionaries are mutable"
      ]
    },
    {
      "cell_type": "code",
      "execution_count": 141,
      "metadata": {
        "colab": {
          "base_uri": "https://localhost:8080/"
        },
        "collapsed": true,
        "id": "XW8xPCQtTR3i",
        "outputId": "16b32cb6-f8c0-4446-e97c-3c281a1ddfa6"
      },
      "outputs": [
        {
          "name": "stdout",
          "output_type": "stream",
          "text": [
            "<class 'dict'>\n",
            "{'parameter1': 1.0, 'parameter2': 2.0, 'parameter3': 3.0}\n"
          ]
        }
      ],
      "source": [
        "params = {\"parameter1\" : 1.0,\n",
        "          \"parameter2\" : 2.0,\n",
        "          \"parameter3\" : 3.0,}\n",
        "\n",
        "print(type(params))\n",
        "print(params)"
      ]
    },
    {
      "cell_type": "code",
      "execution_count": 142,
      "metadata": {
        "colab": {
          "base_uri": "https://localhost:8080/"
        },
        "collapsed": true,
        "id": "SZ3UV122TR3i",
        "outputId": "d3e986ff-a196-46af-e929-9b1e47a368b4"
      },
      "outputs": [
        {
          "name": "stdout",
          "output_type": "stream",
          "text": [
            "parameter1 = 1.0\n",
            "parameter2 = 2.0\n",
            "parameter3 = 3.0\n"
          ]
        }
      ],
      "source": [
        "print(\"parameter1 = \" + str(params[\"parameter1\"]))\n",
        "print(\"parameter2 = \" + str(params[\"parameter2\"]))\n",
        "print(\"parameter3 = \" + str(params[\"parameter3\"]))"
      ]
    },
    {
      "cell_type": "code",
      "execution_count": 143,
      "metadata": {
        "colab": {
          "base_uri": "https://localhost:8080/"
        },
        "collapsed": true,
        "id": "eCfDKdi3TR3i",
        "outputId": "699eab83-b0d5-468b-a4c1-16bdb4768f63"
      },
      "outputs": [
        {
          "name": "stdout",
          "output_type": "stream",
          "text": [
            "parameter1 = A\n",
            "parameter2 = B\n",
            "parameter3 = 3.0\n",
            "parameter4 = D\n"
          ]
        }
      ],
      "source": [
        "params[\"parameter1\"] = \"A\"\n",
        "params[\"parameter2\"] = \"B\"\n",
        "\n",
        "# add a new entry\n",
        "params[\"parameter4\"] = \"D\"\n",
        "\n",
        "print(\"parameter1 = \" + str(params[\"parameter1\"]))\n",
        "print(\"parameter2 = \" + str(params[\"parameter2\"]))\n",
        "print(\"parameter3 = \" + str(params[\"parameter3\"]))\n",
        "print(\"parameter4 = \" + str(params[\"parameter4\"]))"
      ]
    },
    {
      "cell_type": "markdown",
      "metadata": {
        "id": "17sxiOpzL9gz"
      },
      "source": [
        "Dictionary comprehensions: These are similar to list comprehensions, but allow you to easily construct dictionaries. For example:"
      ]
    },
    {
      "cell_type": "code",
      "execution_count": null,
      "metadata": {
        "colab": {
          "base_uri": "https://localhost:8080/",
          "height": 34
        },
        "id": "8PB07imLL9gz",
        "outputId": "e9ddf886-39ed-4f35-dd80-64a19d2eec9b"
      },
      "outputs": [
        {
          "name": "stdout",
          "output_type": "stream",
          "text": [
            "{0: 0, 2: 4, 4: 16}\n"
          ]
        }
      ],
      "source": [
        "nums = [0, 1, 2, 3, 4]\n",
        "even_num_to_square = {x: x ** 2 for x in nums if x % 2 == 0}\n",
        "print(even_num_to_square)"
      ]
    },
    {
      "cell_type": "markdown",
      "metadata": {
        "id": "cgHzWwVJTR3j"
      },
      "source": [
        "# Sets"
      ]
    },
    {
      "cell_type": "raw",
      "metadata": {
        "id": "h6ZNy-h3TR3j"
      },
      "source": [
        "A set is an unordered collection of distinct elements.Sets are mutable. As a simple example, consider the following:\n"
      ]
    },
    {
      "cell_type": "code",
      "execution_count": 144,
      "metadata": {
        "colab": {
          "base_uri": "https://localhost:8080/"
        },
        "collapsed": true,
        "id": "Ut24Dqw6TR3j",
        "outputId": "68ff8b8f-4e3c-41fc-dba3-80c558d6eecd"
      },
      "outputs": [
        {
          "name": "stdout",
          "output_type": "stream",
          "text": [
            "True\n",
            "False\n",
            "True\n",
            "3\n",
            "3\n",
            "2\n"
          ]
        }
      ],
      "source": [
        "animals = {'cat', 'dog'}\n",
        "print('cat' in animals)   # Check if an element is in a set; prints \"True\"\n",
        "print('fish' in animals)  # prints \"False\"\n",
        "animals.add('fish')       # Add an element to a set\n",
        "print('fish' in animals)  # Prints \"True\"\n",
        "print(len(animals))       # Number of elements in a set; prints \"3\"\n",
        "animals.add('cat')        # Adding an element that is already in the set does nothing\n",
        "print(len(animals))       # Prints \"3\"\n",
        "animals.remove('cat')     # Remove an element from a set\n",
        "print(len(animals))       # Prints \"2\""
      ]
    },
    {
      "cell_type": "code",
      "execution_count": 145,
      "metadata": {
        "colab": {
          "base_uri": "https://localhost:8080/"
        },
        "collapsed": true,
        "id": "FiX99cDJTR3j",
        "outputId": "e8cdc032-6f94-46cf-f4e2-1e93bc1de3e2"
      },
      "outputs": [
        {
          "data": {
            "text/plain": [
              "{3}"
            ]
          },
          "execution_count": 145,
          "metadata": {},
          "output_type": "execute_result"
        }
      ],
      "source": [
        "S1={1,2,3}\n",
        "S2={3,4,5}\n",
        "S1.intersection(S2)"
      ]
    },
    {
      "cell_type": "code",
      "execution_count": 146,
      "metadata": {
        "colab": {
          "base_uri": "https://localhost:8080/"
        },
        "collapsed": true,
        "id": "HrOpfPQwTR3j",
        "outputId": "eda2e3b2-f1d3-4ebe-b47c-28a728aee6bb"
      },
      "outputs": [
        {
          "data": {
            "text/plain": [
              "{1, 2, 3, 4, 5}"
            ]
          },
          "execution_count": 146,
          "metadata": {},
          "output_type": "execute_result"
        }
      ],
      "source": [
        "S1.union(S2)"
      ]
    },
    {
      "cell_type": "markdown",
      "metadata": {
        "id": "zk2DbvLKL9g_"
      },
      "source": [
        "*Loops*: Iterating over a set has the same syntax as iterating over a list; however since sets are unordered, you cannot make assumptions about the order in which you visit the elements of the set:"
      ]
    },
    {
      "cell_type": "code",
      "execution_count": null,
      "metadata": {
        "colab": {
          "base_uri": "https://localhost:8080/",
          "height": 69
        },
        "id": "K47KYNGyL9hA",
        "outputId": "4477f897-4355-4816-b39b-b93ffbac4bf0"
      },
      "outputs": [
        {
          "name": "stdout",
          "output_type": "stream",
          "text": [
            "#1: dog\n",
            "#2: fish\n",
            "#3: cat\n"
          ]
        }
      ],
      "source": [
        "animals = {'cat', 'dog', 'fish'}\n",
        "for idx, animal in enumerate(animals):\n",
        "    print('#{}: {}'.format(idx + 1, animal))"
      ]
    },
    {
      "cell_type": "markdown",
      "metadata": {
        "id": "puq4S8buL9hC"
      },
      "source": [
        "Set comprehensions: Like lists and dictionaries, we can easily construct sets using set comprehensions:"
      ]
    },
    {
      "cell_type": "code",
      "execution_count": null,
      "metadata": {
        "colab": {
          "base_uri": "https://localhost:8080/",
          "height": 34
        },
        "id": "iw7k90k3L9hC",
        "outputId": "72d6b824-6d31-47b2-f929-4cf434590ee5"
      },
      "outputs": [
        {
          "name": "stdout",
          "output_type": "stream",
          "text": [
            "{0, 1, 2, 3, 4, 5}\n"
          ]
        }
      ],
      "source": [
        "from math import sqrt\n",
        "print({int(sqrt(x)) for x in range(30)})"
      ]
    },
    {
      "cell_type": "markdown",
      "metadata": {
        "id": "1YQTuwqnTR3j"
      },
      "source": [
        "## Control Flow"
      ]
    },
    {
      "cell_type": "markdown",
      "metadata": {
        "id": "nbG995joTR3k"
      },
      "source": [
        "### Conditional statements: if, elif, else"
      ]
    },
    {
      "cell_type": "markdown",
      "metadata": {
        "id": "FYYrKeVrTR3k"
      },
      "source": [
        "The Python syntax for conditional execution of code uses the keywords `if`, `elif` (else if), `else`:"
      ]
    },
    {
      "cell_type": "code",
      "execution_count": null,
      "metadata": {
        "collapsed": true,
        "id": "OzMsOYX5TR3k"
      },
      "outputs": [],
      "source": [
        "statement1 = False\n",
        "statement2 = False\n",
        "\n",
        "if statement1:\n",
        "  print(\"statement1 is True\")\n",
        "\n",
        "elif statement2:\n",
        "    print(\"statement2 is True\")\n",
        "\n",
        "else:\n",
        "    print(\"statement1 and statement2 are False\")"
      ]
    },
    {
      "cell_type": "markdown",
      "metadata": {
        "id": "ZE_zwnekTR3l"
      },
      "source": [
        "For the first time, here we encounted a peculiar and unusual aspect of the Python programming language: Program blocks are defined by their indentation level.\n",
        "\n",
        "Compare to the equivalent C code:\n",
        "\n",
        "    if (statement1)\n",
        "    {\n",
        "        printf(\"statement1 is True\\n\");\n",
        "    }\n",
        "    else if (statement2)\n",
        "    {\n",
        "        printf(\"statement2 is True\\n\");\n",
        "    }\n",
        "    else\n",
        "    {\n",
        "        printf(\"statement1 and statement2 are False\\n\");\n",
        "    }\n",
        "\n",
        "In C blocks are defined by the enclosing curly brakets `{` and `}`. And the level of indentation (white space before the code statements) does not matter (completely optional).\n",
        "\n",
        "But in Python, the extent of a code block is defined by the indentation level (usually a tab or say four white spaces). This means that we have to be careful to indent our code correctly, or else we will get syntax errors."
      ]
    },
    {
      "cell_type": "markdown",
      "metadata": {
        "id": "9BnrhMSSTR3l"
      },
      "source": [
        "#### Examples:"
      ]
    },
    {
      "cell_type": "code",
      "execution_count": 147,
      "metadata": {
        "colab": {
          "base_uri": "https://localhost:8080/"
        },
        "collapsed": true,
        "id": "3X1wEdlYTR3l",
        "outputId": "d97547fc-a821-461c-963c-819c44a6bbeb"
      },
      "outputs": [
        {
          "name": "stdout",
          "output_type": "stream",
          "text": [
            "both statement1 and statement2 are True\n"
          ]
        }
      ],
      "source": [
        "statement1 = statement2 = True\n",
        "\n",
        "if statement1:\n",
        "    if statement2:\n",
        "        print(\"both statement1 and statement2 are True\")"
      ]
    },
    {
      "cell_type": "code",
      "execution_count": 148,
      "metadata": {
        "colab": {
          "base_uri": "https://localhost:8080/",
          "height": 106
        },
        "collapsed": true,
        "id": "ZinIkOzoTR3l",
        "outputId": "c171f0d5-29d4-43cc-d3cb-5975ee55b89b"
      },
      "outputs": [
        {
          "ename": "IndentationError",
          "evalue": "expected an indented block after 'if' statement on line 3 (<ipython-input-148-ac4109c9123a>, line 4)",
          "output_type": "error",
          "traceback": [
            "\u001b[0;36m  File \u001b[0;32m\"<ipython-input-148-ac4109c9123a>\"\u001b[0;36m, line \u001b[0;32m4\u001b[0m\n\u001b[0;31m    print(\"both statement1 and statement2 are True\")  # this line is not properly indented\u001b[0m\n\u001b[0m    ^\u001b[0m\n\u001b[0;31mIndentationError\u001b[0m\u001b[0;31m:\u001b[0m expected an indented block after 'if' statement on line 3\n"
          ]
        }
      ],
      "source": [
        "# Bad indentation!\n",
        "if statement1:\n",
        "    if statement2:\n",
        "    print(\"both statement1 and statement2 are True\")  # this line is not properly indented"
      ]
    },
    {
      "cell_type": "code",
      "execution_count": 149,
      "metadata": {
        "collapsed": true,
        "id": "RCYRio_OTR3m"
      },
      "outputs": [],
      "source": [
        "statement1 = False\n",
        "\n",
        "if statement1:\n",
        "    print(\"printed if statement1 is True\")\n",
        "    print(\"still inside the if block\")"
      ]
    },
    {
      "cell_type": "code",
      "execution_count": 150,
      "metadata": {
        "colab": {
          "base_uri": "https://localhost:8080/"
        },
        "collapsed": true,
        "id": "BnryxtzKTR3m",
        "outputId": "0e28d7c0-0d7b-4495-c193-d1101d0b5bba"
      },
      "outputs": [
        {
          "name": "stdout",
          "output_type": "stream",
          "text": [
            "now outside the if block\n"
          ]
        }
      ],
      "source": [
        "if statement1:\n",
        "    print(\"printed if statement1 is True\")\n",
        "\n",
        "print(\"now outside the if block\")"
      ]
    },
    {
      "cell_type": "markdown",
      "metadata": {
        "id": "qhshdX57TR3m"
      },
      "source": [
        "## Loops"
      ]
    },
    {
      "cell_type": "markdown",
      "metadata": {
        "id": "vAqdWVZlTR3m"
      },
      "source": [
        "In Python, loops can be programmed in a number of different ways. The most common is the `for` loop, which is used together with iterable objects, such as lists. The basic syntax is:"
      ]
    },
    {
      "cell_type": "markdown",
      "metadata": {
        "id": "5S4RwnXwTR3m"
      },
      "source": [
        "### **`for` loops**:"
      ]
    },
    {
      "cell_type": "code",
      "execution_count": 151,
      "metadata": {
        "colab": {
          "base_uri": "https://localhost:8080/"
        },
        "collapsed": true,
        "id": "QOsXUxqiTR3n",
        "outputId": "2e598084-c0e3-49f9-8dec-d4d644bd86ea"
      },
      "outputs": [
        {
          "name": "stdout",
          "output_type": "stream",
          "text": [
            "1\n",
            "2\n",
            "3\n"
          ]
        }
      ],
      "source": [
        "for x in [1,2,3]:\n",
        "    print(x)"
      ]
    },
    {
      "cell_type": "markdown",
      "metadata": {
        "id": "P0pZlmPSTR3n"
      },
      "source": [
        "The `for` loop iterates over the elements of the supplied list, and executes the containing block once for each element. Any kind of list can be used in the `for` loop. For example:"
      ]
    },
    {
      "cell_type": "code",
      "execution_count": 152,
      "metadata": {
        "colab": {
          "base_uri": "https://localhost:8080/"
        },
        "collapsed": true,
        "id": "Yuf_JaQTTR3o",
        "outputId": "c02784c3-abc7-4793-d0bb-a7c9bb1fc8fb"
      },
      "outputs": [
        {
          "name": "stdout",
          "output_type": "stream",
          "text": [
            "0\n",
            "1\n",
            "2\n",
            "3\n"
          ]
        }
      ],
      "source": [
        "for x in range(4): # by default range start at 0\n",
        "    print(x)"
      ]
    },
    {
      "cell_type": "markdown",
      "metadata": {
        "id": "V24XJ1wLTR3o"
      },
      "source": [
        "Note: `range(4)` does not include 4 !"
      ]
    },
    {
      "cell_type": "code",
      "execution_count": 153,
      "metadata": {
        "colab": {
          "base_uri": "https://localhost:8080/"
        },
        "collapsed": true,
        "id": "kBClfUZHTR3o",
        "outputId": "cbe3a86a-6f44-4a55-a25d-9f86ca933bb7"
      },
      "outputs": [
        {
          "name": "stdout",
          "output_type": "stream",
          "text": [
            "-3\n",
            "-2\n",
            "-1\n",
            "0\n",
            "1\n",
            "2\n"
          ]
        }
      ],
      "source": [
        "for x in range(-3,3):\n",
        "    print(x)"
      ]
    },
    {
      "cell_type": "code",
      "execution_count": 154,
      "metadata": {
        "colab": {
          "base_uri": "https://localhost:8080/"
        },
        "collapsed": true,
        "id": "s2PXpYblTR3p",
        "outputId": "c3d31a05-fd39-4f38-f487-51d5fb11a4bf"
      },
      "outputs": [
        {
          "name": "stdout",
          "output_type": "stream",
          "text": [
            "scientific\n",
            "computing\n",
            "with\n",
            "python\n"
          ]
        }
      ],
      "source": [
        "for word in [\"scientific\", \"computing\", \"with\", \"python\"]:\n",
        "    print(word)"
      ]
    },
    {
      "cell_type": "markdown",
      "metadata": {
        "id": "Z5QkFLQVTR3p"
      },
      "source": [
        "To iterate over key-value pairs of a dictionary:"
      ]
    },
    {
      "cell_type": "code",
      "execution_count": 155,
      "metadata": {
        "colab": {
          "base_uri": "https://localhost:8080/"
        },
        "collapsed": true,
        "id": "vVSjuyjKTR3p",
        "outputId": "04db1a55-c0af-4e37-a4ee-336beaf9b5be"
      },
      "outputs": [
        {
          "name": "stdout",
          "output_type": "stream",
          "text": [
            "parameter1 = A\n",
            "parameter2 = B\n",
            "parameter3 = 3.0\n",
            "parameter4 = D\n"
          ]
        }
      ],
      "source": [
        "for key, value in params.items():\n",
        "    print(key + \" = \" + str(value))"
      ]
    },
    {
      "cell_type": "markdown",
      "metadata": {
        "id": "clEItQZPTR3p"
      },
      "source": [
        "Sometimes it is useful to have access to the indices of the values when iterating over a list. We can use the `enumerate` function for this:"
      ]
    },
    {
      "cell_type": "code",
      "execution_count": 156,
      "metadata": {
        "colab": {
          "base_uri": "https://localhost:8080/"
        },
        "collapsed": true,
        "id": "3nOoOh4FTR3p",
        "outputId": "d0094dd8-2d82-42dc-db2b-682c3e28cabd"
      },
      "outputs": [
        {
          "name": "stdout",
          "output_type": "stream",
          "text": [
            "0 -3\n",
            "1 -2\n",
            "2 -1\n",
            "3 0\n",
            "4 1\n",
            "5 2\n"
          ]
        }
      ],
      "source": [
        "for idx, x in enumerate(range(-3,3)):\n",
        "    print(idx, x)"
      ]
    },
    {
      "cell_type": "markdown",
      "metadata": {
        "id": "AI9siyuFTR3q"
      },
      "source": [
        "### List comprehensions: Creating lists using `for` loops:"
      ]
    },
    {
      "cell_type": "markdown",
      "metadata": {
        "id": "EesPSbaLTR3r"
      },
      "source": [
        "A convenient and compact way to initialize lists:"
      ]
    },
    {
      "cell_type": "code",
      "execution_count": 157,
      "metadata": {
        "colab": {
          "base_uri": "https://localhost:8080/"
        },
        "collapsed": true,
        "id": "P0NqVvzuTR3r",
        "outputId": "ae14cc9a-aa4f-4560-801d-8a5eb031ed3c"
      },
      "outputs": [
        {
          "name": "stdout",
          "output_type": "stream",
          "text": [
            "[0, 1, 4, 9, 16]\n"
          ]
        }
      ],
      "source": [
        "l1 = [x**2 for x in range(0,5)]\n",
        "\n",
        "print(l1)"
      ]
    },
    {
      "cell_type": "code",
      "execution_count": 158,
      "metadata": {
        "colab": {
          "base_uri": "https://localhost:8080/"
        },
        "collapsed": true,
        "id": "GpLDHU5HTR3r",
        "outputId": "c74bbfd0-3e24-4890-9a1c-7d8bb2710ca6"
      },
      "outputs": [
        {
          "name": "stdout",
          "output_type": "stream",
          "text": [
            "[0, 2, 4, 6, 8, 10, 12, 14, 16, 18, 20, 22, 24, 26, 28, 30, 32, 34, 36, 38, 40, 42, 44, 46, 48, 50, 52, 54, 56, 58, 60, 62, 64, 66, 68, 70, 72, 74, 76, 78, 80, 82, 84, 86, 88, 90, 92, 94, 96, 98]\n"
          ]
        }
      ],
      "source": [
        "# List comprehensions filtering and conditioning\n",
        "# filter the even numbers\n",
        "l=[x for x in range(100) if x%2==0]\n",
        "print(l)"
      ]
    },
    {
      "cell_type": "markdown",
      "metadata": {
        "id": "w26c9F7RTR3r"
      },
      "source": [
        "### `while` loops:"
      ]
    },
    {
      "cell_type": "code",
      "execution_count": 159,
      "metadata": {
        "colab": {
          "base_uri": "https://localhost:8080/"
        },
        "collapsed": true,
        "id": "Mm2U9T3ZTR3s",
        "outputId": "5514ccbe-da32-4ff3-f7b8-887c739a1411"
      },
      "outputs": [
        {
          "name": "stdout",
          "output_type": "stream",
          "text": [
            "0\n",
            "1\n",
            "2\n",
            "3\n",
            "4\n",
            "done\n"
          ]
        }
      ],
      "source": [
        "i = 0\n",
        "\n",
        "while i < 5:\n",
        "    print(i)\n",
        "\n",
        "    i = i + 1\n",
        "\n",
        "print(\"done\")"
      ]
    },
    {
      "cell_type": "markdown",
      "metadata": {
        "id": "pZR_lOhkTR3s"
      },
      "source": [
        "Note that the `print(\"done\")` statement is not part of the `while` loop body because of the difference in indentation."
      ]
    },
    {
      "cell_type": "markdown",
      "metadata": {
        "id": "Q0l5-LB8TR3s"
      },
      "source": [
        "## Functions"
      ]
    },
    {
      "cell_type": "markdown",
      "metadata": {
        "id": "1l5AS0RJTR3s"
      },
      "source": [
        "A function in Python is defined using the keyword `def`, followed by a function name, a signature within parentheses `()`, and a colon `:`. The following code, with one additional level of indentation, is the function body."
      ]
    },
    {
      "cell_type": "code",
      "execution_count": 160,
      "metadata": {
        "collapsed": true,
        "id": "RCdchvPcTR3s"
      },
      "outputs": [],
      "source": [
        "def func0():\n",
        "    print(\"test\")"
      ]
    },
    {
      "cell_type": "code",
      "execution_count": 161,
      "metadata": {
        "colab": {
          "base_uri": "https://localhost:8080/"
        },
        "collapsed": true,
        "id": "7EAbxD7MTR3t",
        "outputId": "8f320769-ce4d-415e-990c-7085d1efb916"
      },
      "outputs": [
        {
          "name": "stdout",
          "output_type": "stream",
          "text": [
            "test\n"
          ]
        }
      ],
      "source": [
        "func0()"
      ]
    },
    {
      "cell_type": "markdown",
      "metadata": {
        "id": "75ogIeSkTR3t"
      },
      "source": [
        "Optionally, but highly recommended, we can define a so called \"docstring\", which is a description of the functions purpose and behaivor. The docstring should follow directly after the function definition, before the code in the function body."
      ]
    },
    {
      "cell_type": "code",
      "execution_count": 162,
      "metadata": {
        "collapsed": true,
        "id": "rUMprucsTR3t"
      },
      "outputs": [],
      "source": [
        "def func1(s):\n",
        "    \"\"\"\n",
        "    Print a string 's' and tell how many characters it has\n",
        "    \"\"\"\n",
        "\n",
        "    print(s + \" has \" + str(len(s)) + \" characters\")"
      ]
    },
    {
      "cell_type": "code",
      "execution_count": 163,
      "metadata": {
        "colab": {
          "base_uri": "https://localhost:8080/"
        },
        "collapsed": true,
        "id": "iO02VA2DTR3t",
        "outputId": "97e42f29-d6ab-44b8-a3df-b4b05c994e4e"
      },
      "outputs": [
        {
          "name": "stdout",
          "output_type": "stream",
          "text": [
            "Help on function func1 in module __main__:\n",
            "\n",
            "func1(s)\n",
            "    Print a string 's' and tell how many characters it has\n",
            "\n"
          ]
        }
      ],
      "source": [
        "help(func1)"
      ]
    },
    {
      "cell_type": "code",
      "execution_count": 164,
      "metadata": {
        "colab": {
          "base_uri": "https://localhost:8080/"
        },
        "collapsed": true,
        "id": "oPd3Vwr6TR3t",
        "outputId": "5446fc74-d883-4c2a-91b4-38a1477c2e09"
      },
      "outputs": [
        {
          "name": "stdout",
          "output_type": "stream",
          "text": [
            "test has 4 characters\n"
          ]
        }
      ],
      "source": [
        "func1(\"test\")"
      ]
    },
    {
      "cell_type": "markdown",
      "metadata": {
        "id": "zhnO1RGRTR3t"
      },
      "source": [
        "Functions that returns a value use the `return` keyword:"
      ]
    },
    {
      "cell_type": "code",
      "execution_count": 165,
      "metadata": {
        "collapsed": true,
        "id": "oDkoVEO4TR3t"
      },
      "outputs": [],
      "source": [
        "def square(x):\n",
        "    \"\"\"\n",
        "    Return the square of x.\n",
        "    \"\"\"\n",
        "    return x ** 2"
      ]
    },
    {
      "cell_type": "code",
      "execution_count": 166,
      "metadata": {
        "colab": {
          "base_uri": "https://localhost:8080/"
        },
        "collapsed": true,
        "id": "DGOs-xyoTR3u",
        "outputId": "749dd817-6c0c-4418-cff5-2d4bdc07c923"
      },
      "outputs": [
        {
          "data": {
            "text/plain": [
              "16"
            ]
          },
          "execution_count": 166,
          "metadata": {},
          "output_type": "execute_result"
        }
      ],
      "source": [
        "square(4)"
      ]
    },
    {
      "cell_type": "markdown",
      "metadata": {
        "id": "N4ioEOFYTR3u"
      },
      "source": [
        "We can return multiple values from a function using tuples (see above):"
      ]
    },
    {
      "cell_type": "code",
      "execution_count": 167,
      "metadata": {
        "collapsed": true,
        "id": "rEIFWuD8TR3u"
      },
      "outputs": [],
      "source": [
        "def powers(x):\n",
        "    \"\"\"\n",
        "    Return a few powers of x.\n",
        "    \"\"\"\n",
        "    return x ** 2, x ** 3, x ** 4"
      ]
    },
    {
      "cell_type": "code",
      "execution_count": 168,
      "metadata": {
        "colab": {
          "base_uri": "https://localhost:8080/"
        },
        "collapsed": true,
        "id": "8SCFHJewTR3u",
        "outputId": "7cd89fb6-6ad4-420e-b639-0639cd61b65c"
      },
      "outputs": [
        {
          "data": {
            "text/plain": [
              "(9, 27, 81)"
            ]
          },
          "execution_count": 168,
          "metadata": {},
          "output_type": "execute_result"
        }
      ],
      "source": [
        "powers(3)"
      ]
    },
    {
      "cell_type": "code",
      "execution_count": 169,
      "metadata": {
        "colab": {
          "base_uri": "https://localhost:8080/"
        },
        "collapsed": true,
        "id": "BGlTO_lWTR3v",
        "outputId": "4685f9fd-67c1-4930-924f-effac6a0c713"
      },
      "outputs": [
        {
          "name": "stdout",
          "output_type": "stream",
          "text": [
            "27\n"
          ]
        }
      ],
      "source": [
        "x2, x3, x4 = powers(3)\n",
        "\n",
        "print(x3)"
      ]
    },
    {
      "cell_type": "code",
      "execution_count": 170,
      "metadata": {
        "colab": {
          "base_uri": "https://localhost:8080/"
        },
        "collapsed": true,
        "id": "BLQnZNk8TR3v",
        "outputId": "d9f9e6a8-3b23-4f1a-c6ae-6feb99c39a17"
      },
      "outputs": [
        {
          "data": {
            "text/plain": [
              "9"
            ]
          },
          "execution_count": 170,
          "metadata": {},
          "output_type": "execute_result"
        }
      ],
      "source": [
        "POW = lambda x: x**2\n",
        "POW(3)"
      ]
    },
    {
      "cell_type": "code",
      "execution_count": 171,
      "metadata": {
        "colab": {
          "base_uri": "https://localhost:8080/"
        },
        "id": "edgi-fJntV75",
        "outputId": "64d63923-33eb-4440-8e38-d9b7e98836e4"
      },
      "outputs": [
        {
          "name": "stdout",
          "output_type": "stream",
          "text": [
            "22\n"
          ]
        }
      ],
      "source": [
        "def myfunc(n):\n",
        "  return lambda a : a * n\n",
        "\n",
        "mydoubler = myfunc(2)\n",
        "\n",
        "print(mydoubler(11))"
      ]
    },
    {
      "cell_type": "markdown",
      "metadata": {
        "id": "ydFRKesQTR3v"
      },
      "source": [
        "### Default argument and keyword arguments"
      ]
    },
    {
      "cell_type": "markdown",
      "metadata": {
        "id": "-T70sgdOTR3v"
      },
      "source": [
        "In a definition of a function, we can give default values to the arguments the function takes:"
      ]
    },
    {
      "cell_type": "code",
      "execution_count": 172,
      "metadata": {
        "collapsed": true,
        "id": "XBYuOSxATR3v"
      },
      "outputs": [],
      "source": [
        "def myfunc(x, p=2, debug=False):\n",
        "    if debug:\n",
        "        print(\"evaluating myfunc for x = \" + str(x) + \" using exponent p = \" + str(p))\n",
        "    return x**p"
      ]
    },
    {
      "cell_type": "markdown",
      "metadata": {
        "id": "GUsDDqU9TR3w"
      },
      "source": [
        "If we don't provide a value of the `debug` argument when calling the the function `myfunc` it defaults to the value provided in the function definition:"
      ]
    },
    {
      "cell_type": "code",
      "execution_count": 173,
      "metadata": {
        "colab": {
          "base_uri": "https://localhost:8080/"
        },
        "collapsed": true,
        "id": "2Pk7zKF1TR3w",
        "outputId": "4689b7ef-f9e4-402f-ca48-d814d20cc06c"
      },
      "outputs": [
        {
          "data": {
            "text/plain": [
              "25"
            ]
          },
          "execution_count": 173,
          "metadata": {},
          "output_type": "execute_result"
        }
      ],
      "source": [
        "myfunc(5)"
      ]
    },
    {
      "cell_type": "code",
      "execution_count": 174,
      "metadata": {
        "colab": {
          "base_uri": "https://localhost:8080/"
        },
        "collapsed": true,
        "id": "9RrguUGBTR3w",
        "outputId": "d4a8c933-09a4-409f-ac93-2034fefc46cf"
      },
      "outputs": [
        {
          "name": "stdout",
          "output_type": "stream",
          "text": [
            "evaluating myfunc for x = 5 using exponent p = 3\n"
          ]
        },
        {
          "data": {
            "text/plain": [
              "125"
            ]
          },
          "execution_count": 174,
          "metadata": {},
          "output_type": "execute_result"
        }
      ],
      "source": [
        "myfunc(5,3, debug=True)"
      ]
    },
    {
      "cell_type": "markdown",
      "metadata": {
        "id": "csxCSLJvTR3w"
      },
      "source": [
        "If we explicitly list the name of the arguments in the function calls, they do not need to come in the same order as in the function definition. This is called *keyword* arguments, and is often very useful in functions that takes a lot of optional arguments."
      ]
    },
    {
      "cell_type": "code",
      "execution_count": 175,
      "metadata": {
        "colab": {
          "base_uri": "https://localhost:8080/"
        },
        "collapsed": true,
        "id": "OR4ufug0TR3w",
        "outputId": "b5d70c80-67dc-4fc9-c61d-a2c3e57668d4"
      },
      "outputs": [
        {
          "name": "stdout",
          "output_type": "stream",
          "text": [
            "evaluating myfunc for x = 7 using exponent p = 3\n"
          ]
        },
        {
          "data": {
            "text/plain": [
              "343"
            ]
          },
          "execution_count": 175,
          "metadata": {},
          "output_type": "execute_result"
        }
      ],
      "source": [
        "myfunc(p=3, debug=True, x=7)"
      ]
    },
    {
      "cell_type": "markdown",
      "metadata": {
        "id": "ObA9PRtQL9hT"
      },
      "source": [
        "### Classes"
      ]
    },
    {
      "cell_type": "markdown",
      "metadata": {
        "id": "hAzL_lTkL9hU"
      },
      "source": [
        "The syntax for defining classes in Python is straightforward:"
      ]
    },
    {
      "cell_type": "code",
      "execution_count": null,
      "metadata": {
        "colab": {
          "base_uri": "https://localhost:8080/",
          "height": 52
        },
        "id": "RWdbaGigL9hU",
        "outputId": "4f6615c5-75a7-4ce4-8ea1-1e7f5e4e9fc3"
      },
      "outputs": [
        {
          "name": "stdout",
          "output_type": "stream",
          "text": [
            "Hello, Fred!\n",
            "HELLO, FRED\n"
          ]
        }
      ],
      "source": [
        "class Greeter:\n",
        "\n",
        "    # Constructor\n",
        "    def __init__(self, name):\n",
        "        self.name = name  # Create an instance variable\n",
        "\n",
        "    # Instance method\n",
        "    def greet(self, loud=False):\n",
        "        if loud:\n",
        "          print('HELLO, {}'.format(self.name.upper()))\n",
        "        else:\n",
        "          print('Hello, {}!'.format(self.name))\n",
        "\n",
        "g = Greeter('Fred')  # Construct an instance of the Greeter class\n",
        "g.greet()            # Call an instance method; prints \"Hello, Fred\"\n",
        "g.greet(loud=True)   # Call an instance method; prints \"HELLO, FRED!\""
      ]
    },
    {
      "cell_type": "markdown",
      "metadata": {
        "id": "zC5Kt-yQCF6Z"
      },
      "source": [
        "Reference: https://github.com/cs231n/cs231n.github.io/blob/master/jupyter-notebook-tutorial.ipynb"
      ]
    },
    {
      "cell_type": "code",
      "execution_count": 175,
      "metadata": {
        "id": "UnWvdn5qBUb8"
      },
      "outputs": [],
      "source": []
    }
  ],
  "metadata": {
    "colab": {
      "provenance": []
    },
    "kernelspec": {
      "display_name": "Python 3",
      "language": "python",
      "name": "python3"
    },
    "language_info": {
      "codemirror_mode": {
        "name": "ipython",
        "version": 3
      },
      "file_extension": ".py",
      "mimetype": "text/x-python",
      "name": "python",
      "nbconvert_exporter": "python",
      "pygments_lexer": "ipython3",
      "version": "3.12.2"
    }
  },
  "nbformat": 4,
  "nbformat_minor": 0
}
