{
  "cells": [
    {
      "cell_type": "markdown",
      "metadata": {
        "id": "OQUBYKKGL5T6"
      },
      "source": [
        "# **Numpy and Matplotlib Python Tutorial**"
      ]
    },
    {
      "cell_type": "markdown",
      "metadata": {
        "id": "vsUHyxrkL5T-"
      },
      "source": [
        "## **Introduction**"
      ]
    },
    {
      "cell_type": "markdown",
      "metadata": {
        "id": "zFixRF_NL5T_"
      },
      "source": [
        "Python is a great general-purpose programming language on its own, but with the help of a few popular libraries (numpy, scipy, matplotlib) it becomes a powerful environment for scientific computing.\n"
      ]
    },
    {
      "cell_type": "markdown",
      "metadata": {
        "id": "XPlOWIvDL5UB"
      },
      "source": [
        "In this tutorial, we will cover:\n",
        "\n",
        "\n",
        "* <b>Numpy:</b> Arrays, Array indexing, Datatypes, Array math, Broadcasting.\n",
        "* <b>Matplotlib: </b>Plotting, Subplots.\n"
      ]
    },
    {
      "cell_type": "markdown",
      "metadata": {
        "id": "mngIdKxjL5UC"
      },
      "source": [
        "## **Numpy**"
      ]
    },
    {
      "cell_type": "markdown",
      "metadata": {
        "id": "B6KOhoLWL5UE"
      },
      "source": [
        "Numpy is the core library for scientific computing in Python. It provides a high-performance multidimensional array object, and tools for working with these arrays."
      ]
    },
    {
      "cell_type": "markdown",
      "metadata": {
        "id": "F_cWVFUSL5UG"
      },
      "source": [
        "To use Numpy, we first need to import the `numpy` package:"
      ]
    },
    {
      "cell_type": "code",
      "execution_count": null,
      "metadata": {
        "id": "K-pgMAB5L5UI"
      },
      "outputs": [],
      "source": [
        "import numpy as np"
      ]
    },
    {
      "cell_type": "markdown",
      "metadata": {
        "id": "GWob355YL5UO"
      },
      "source": [
        "### Arrays"
      ]
    },
    {
      "cell_type": "markdown",
      "metadata": {
        "id": "8UNzETo5L5UP"
      },
      "source": [
        "A numpy array is a grid of values, all of the same type, and is indexed by a tuple of nonnegative integers. The number of dimensions is the rank of the array; the shape of an array is a tuple of integers giving the size of the array along each dimension."
      ]
    },
    {
      "cell_type": "markdown",
      "metadata": {
        "id": "Lx7tkGi-L5UQ"
      },
      "source": [
        "We can initialize numpy arrays from nested Python lists, and access elements using square brackets:"
      ]
    },
    {
      "cell_type": "code",
      "execution_count": null,
      "metadata": {
        "colab": {
          "base_uri": "https://localhost:8080/"
        },
        "id": "Dm4AONZqL5US",
        "outputId": "c97cfdf1-a18a-4d6e-f41a-63d05777c876"
      },
      "outputs": [
        {
          "output_type": "stream",
          "name": "stdout",
          "text": [
            "<class 'numpy.ndarray'> (3,) 1 2 3\n",
            "[5 2 3]\n",
            "(1, 3)\n",
            "(3, 1)\n",
            "5\n",
            "0\n",
            "2\n",
            "1\n",
            "10\n",
            "[25  4  9]\n",
            "3\n",
            "1\n",
            "int64\n"
          ]
        }
      ],
      "source": [
        "a = np.array([1, 2, 3])  # Create a rank 1 array\n",
        "print( type(a), a.shape, a[0], a[1], a[2])\n",
        "a[0] = 5                 # Change an element of the array\n",
        "print(a)\n",
        "Arow=np.array([1,2,3]).reshape(1,3)\n",
        "print(Arow.shape)\n",
        "print(Arow.T.shape)  #transpose\n",
        "print(a.max())\n",
        "print(a.argmax()) # get index for the max\n",
        "print(a.min())\n",
        "print(a.argmin()) #get the index for the in\n",
        "print(np.sum(a))\n",
        "print(np.square(a))\n",
        "print(np.size(a))\n",
        "print(a.ndim)  #Number of array dimensions\n",
        "print(a.dtype) # To check Numeric type of elements"
      ]
    },
    {
      "cell_type": "code",
      "execution_count": null,
      "metadata": {
        "colab": {
          "base_uri": "https://localhost:8080/"
        },
        "id": "wEMBf-T3L5Ua",
        "outputId": "4e64719e-e92e-429e-bdbe-323d4f5ba140"
      },
      "outputs": [
        {
          "output_type": "stream",
          "name": "stdout",
          "text": [
            "[1 2 3]\n",
            "[4 5 6]\n",
            "[5 7 9]\n",
            "[-3 -3 -3]\n",
            "[ 4 10 18]\n",
            "[  4  25 216]\n",
            "32\n",
            "32\n",
            "32\n"
          ]
        }
      ],
      "source": [
        "# shape returns a tuple\n",
        "#listing the length of array\n",
        "#along each dimension\n",
        "#print(a.shape)\n",
        "V1=[1,2,3]\n",
        "V2=[4,5,6]\n",
        "arr1=np.array(V1)\n",
        "print(arr1)\n",
        "arr2=np.array(V2)\n",
        "print(arr2)\n",
        "print(arr1+arr2) # To add two arrays\n",
        "print(arr1-arr2) # To subtract\n",
        "print(arr1*arr2) # To Multiplication (elementwise)\n",
        "print(arr2**arr1)\n",
        "print(np.dot(arr1,arr2)) # Dot product\n",
        "print(arr1@arr2)\n",
        "print(arr1.dot(arr2))"
      ]
    },
    {
      "cell_type": "code",
      "execution_count": null,
      "metadata": {
        "colab": {
          "base_uri": "https://localhost:8080/"
        },
        "id": "F9suyyr4L5Uf",
        "outputId": "a7aec2d2-5afd-40a2-98dc-8559ba78c46a"
      },
      "outputs": [
        {
          "output_type": "stream",
          "name": "stdout",
          "text": [
            "[ 0  1  2  3  4  5  6  7  8  9 10]\n"
          ]
        }
      ],
      "source": [
        "# create Array from 0 to 10\n",
        "X=np.arange(11)\n",
        "print(X)"
      ]
    },
    {
      "cell_type": "markdown",
      "metadata": {
        "id": "4S5AoDKhL5U0"
      },
      "source": [
        "# Multi-Dimensional Arrays"
      ]
    },
    {
      "cell_type": "code",
      "execution_count": null,
      "metadata": {
        "colab": {
          "base_uri": "https://localhost:8080/"
        },
        "id": "pBHvxfh_L5U1",
        "outputId": "583a13d3-d801-4d09-937a-9014d8390e6c"
      },
      "outputs": [
        {
          "output_type": "stream",
          "name": "stdout",
          "text": [
            "[[ 1  2  3]\n",
            " [10 11 12]]\n"
          ]
        }
      ],
      "source": [
        "b = np.array([[1,2,3],[10,11,12]])   # Create a rank 2 array\n",
        "print (b)"
      ]
    },
    {
      "cell_type": "code",
      "execution_count": null,
      "metadata": {
        "colab": {
          "base_uri": "https://localhost:8080/"
        },
        "id": "jpGEIWEdL5U6",
        "outputId": "d4c94e4a-308a-435b-9537-4c09b5a047b5",
        "scrolled": true
      },
      "outputs": [
        {
          "output_type": "stream",
          "name": "stdout",
          "text": [
            "The array shape is (2, 3)\n",
            "Number of array elements is 6\n",
            "Number of array dimensions is 2\n"
          ]
        }
      ],
      "source": [
        "print ('The array shape is {}'.format(b.shape))  # Shape=(rows,columns)\n",
        "print('Number of array elements is {}'.format(b.size)) # Size=# of elements\n",
        "print(\"Number of array dimensions is {}\".format(b.ndim)) # Number of dimensions\n"
      ]
    },
    {
      "cell_type": "markdown",
      "metadata": {
        "id": "TMl7Zz90L5VG"
      },
      "source": [
        "Numpy also provides many functions to create arrays:\n"
      ]
    },
    {
      "cell_type": "code",
      "execution_count": null,
      "metadata": {
        "colab": {
          "base_uri": "https://localhost:8080/"
        },
        "id": "xDRw70QcL5VH",
        "outputId": "ed93f8d5-2c2f-4784-b031-7049a19de7f3"
      },
      "outputs": [
        {
          "output_type": "stream",
          "name": "stdout",
          "text": [
            "[[0. 0.]\n",
            " [0. 0.]]\n"
          ]
        }
      ],
      "source": [
        "a = np.zeros((2,2))  # Create an array of all zeros\n",
        "print( a)"
      ]
    },
    {
      "cell_type": "code",
      "execution_count": null,
      "metadata": {
        "colab": {
          "base_uri": "https://localhost:8080/"
        },
        "id": "a8J8NWNYL5VO",
        "outputId": "25260e5d-5989-4a40-b23c-e0c47485eb86"
      },
      "outputs": [
        {
          "output_type": "stream",
          "name": "stdout",
          "text": [
            "[[1. 1.]]\n"
          ]
        }
      ],
      "source": [
        "b = np.ones((1,2))   # Create an array of all ones\n",
        "print( b)"
      ]
    },
    {
      "cell_type": "code",
      "execution_count": null,
      "metadata": {
        "colab": {
          "base_uri": "https://localhost:8080/"
        },
        "id": "-opA8azGL5VU",
        "outputId": "32f9883e-cdcd-4187-cb61-83cd9dbabef4"
      },
      "outputs": [
        {
          "output_type": "stream",
          "name": "stdout",
          "text": [
            "[[7 7]\n",
            " [7 7]]\n",
            "[[7 7]\n",
            " [7 7]]\n"
          ]
        }
      ],
      "source": [
        "c = np.full((2,2), 7) # Create a constant array\n",
        "print (c)\n",
        "C1=7*np.ones((2,2),dtype=np.int64) #Ones and Multiply it by 7\n",
        "print(C1)"
      ]
    },
    {
      "cell_type": "code",
      "execution_count": null,
      "metadata": {
        "colab": {
          "base_uri": "https://localhost:8080/"
        },
        "id": "bHN6LNS6L5VZ",
        "outputId": "b06c9244-3691-433b-8551-df175ea9b5d0"
      },
      "outputs": [
        {
          "output_type": "stream",
          "name": "stdout",
          "text": [
            "[[1. 0.]\n",
            " [0. 1.]]\n"
          ]
        }
      ],
      "source": [
        "d = np.eye(2)        # Create a 2x2 identity matrix\n",
        "print( d)"
      ]
    },
    {
      "cell_type": "code",
      "execution_count": null,
      "metadata": {
        "colab": {
          "base_uri": "https://localhost:8080/"
        },
        "id": "EPpFrKa0L5Vd",
        "outputId": "23c0f868-ac76-443a-c60e-2c98bf7cb618"
      },
      "outputs": [
        {
          "output_type": "stream",
          "name": "stdout",
          "text": [
            "[[0.4057692  0.0481572 ]\n",
            " [0.57170377 0.23440248]]\n"
          ]
        }
      ],
      "source": [
        "e = np.random.random((2,2)) # Create an array filled with random values\n",
        "print(e)"
      ]
    },
    {
      "cell_type": "code",
      "execution_count": null,
      "metadata": {
        "colab": {
          "base_uri": "https://localhost:8080/"
        },
        "id": "sdPplpzGQiWV",
        "outputId": "7ec9009d-0498-428e-b98d-c9d9ed3906c7"
      },
      "outputs": [
        {
          "output_type": "stream",
          "name": "stdout",
          "text": [
            "[[ 0  1  2]\n",
            " [ 3  4  5]\n",
            " [ 6  7  8]\n",
            " [ 9 10 11]]\n"
          ]
        }
      ],
      "source": [
        "f=np.arange(12).reshape(4,3)\n",
        "print(f)"
      ]
    },
    {
      "cell_type": "code",
      "execution_count": null,
      "metadata": {
        "colab": {
          "base_uri": "https://localhost:8080/"
        },
        "id": "oqcKCFG7Qrq3",
        "outputId": "33b33b13-fa58-4ec4-cc7e-1ae5094970bf"
      },
      "outputs": [
        {
          "output_type": "stream",
          "name": "stdout",
          "text": [
            "[[0.         0.11111111]\n",
            " [0.22222222 0.33333333]\n",
            " [0.44444444 0.55555556]\n",
            " [0.66666667 0.77777778]\n",
            " [0.88888889 1.        ]]\n",
            "(5, 2)\n"
          ]
        }
      ],
      "source": [
        "# Generate N evenly spaced elements (start and end are included)\n",
        "g=np.linspace(0,1,10).reshape(5,2)\n",
        "print(g)\n",
        "print(g.shape)"
      ]
    },
    {
      "cell_type": "markdown",
      "metadata": {
        "id": "O7czXpLuL5Vh"
      },
      "source": [
        "### **Array indexing**"
      ]
    },
    {
      "cell_type": "markdown",
      "metadata": {
        "id": "MIBLPkeuL5Vi"
      },
      "source": [
        "Numpy offers several ways to index into arrays."
      ]
    },
    {
      "cell_type": "markdown",
      "metadata": {
        "id": "yaIRogxlL5Vj"
      },
      "source": [
        "Slicing: Similar to Python lists, numpy arrays can be sliced. Since arrays may be multidimensional, you must specify a slice for each dimension of the array:\n"
      ]
    },
    {
      "cell_type": "code",
      "execution_count": null,
      "metadata": {
        "colab": {
          "base_uri": "https://localhost:8080/"
        },
        "id": "g5Efcp_PL5Vl",
        "outputId": "aa9d725a-f82c-43f0-bffc-0d4b6a9101d0"
      },
      "outputs": [
        {
          "output_type": "stream",
          "name": "stdout",
          "text": [
            "[[2 3]\n",
            " [6 7]]\n"
          ]
        }
      ],
      "source": [
        "import numpy as np\n",
        "\n",
        "# Create the following rank 2 array with shape (3, 4)\n",
        "# [[ 1  2  3  4]\n",
        "#  [ 5  6  7  8]\n",
        "#  [ 9 10 11 12]]\n",
        "\n",
        "a = np.array([[1,2,3,4], [5,6,7,8], [9,10,11,12]])\n",
        "\n",
        "# Use slicing to pull out the subarray consisting of the first 2 rows\n",
        "# and columns 1 and 2; b is the following array of shape (2, 2):\n",
        "# [[2 3]\n",
        "\n",
        "#  [6 7]]\n",
        "b = a[:2, 1:3]\n",
        "print (b)"
      ]
    },
    {
      "cell_type": "markdown",
      "metadata": {
        "id": "x4I4Sza4L5Vq"
      },
      "source": [
        "A slice of an array is a view into the same data, so modifying it will modify the original array."
      ]
    },
    {
      "cell_type": "code",
      "execution_count": null,
      "metadata": {
        "colab": {
          "base_uri": "https://localhost:8080/"
        },
        "id": "csSBuHwsL5Vr",
        "outputId": "effdd2d3-898f-4c05-f294-f82d48dfca38"
      },
      "outputs": [
        {
          "output_type": "stream",
          "name": "stdout",
          "text": [
            "2\n",
            "77\n"
          ]
        }
      ],
      "source": [
        "print( a[0, 1])\n",
        "b[0, 0] = 77    # b[0, 0] is the same piece of data as a[0, 1]\n",
        "print (a[0, 1])"
      ]
    },
    {
      "cell_type": "markdown",
      "metadata": {
        "id": "cveSsgVkL5Vv"
      },
      "source": [
        "You can also mix integer indexing with slice indexing. However, doing so will yield an array of lower rank than the original array. Note that this is quite different from the way that MATLAB handles array slicing:"
      ]
    },
    {
      "cell_type": "code",
      "execution_count": null,
      "metadata": {
        "colab": {
          "base_uri": "https://localhost:8080/"
        },
        "id": "1neo8KAcL5Vw",
        "outputId": "fd06b0c7-8cf0-47f7-fa70-dcd0bcb3a834"
      },
      "outputs": [
        {
          "output_type": "stream",
          "name": "stdout",
          "text": [
            "[[ 1  2  3  4]\n",
            " [ 5  6  7  8]\n",
            " [ 9 10 11 12]]\n"
          ]
        }
      ],
      "source": [
        "# Create the following rank 2 array with shape (3, 4)\n",
        "a = np.array([[1,2,3,4], [5,6,7,8], [9,10,11,12]])\n",
        "print( a)"
      ]
    },
    {
      "cell_type": "markdown",
      "metadata": {
        "id": "4c5BhxEvL5V0"
      },
      "source": [
        "Two ways of accessing the data in the middle row of the array.\n",
        "Mixing integer indexing with slices yields an array of lower rank,\n",
        "while using only slices yields an array of the same rank as the\n",
        "original array:"
      ]
    },
    {
      "cell_type": "code",
      "execution_count": null,
      "metadata": {
        "colab": {
          "base_uri": "https://localhost:8080/"
        },
        "id": "5rtnv-18L5V1",
        "outputId": "535e3ae2-9b44-4d73-c0a0-66f46106c3fc"
      },
      "outputs": [
        {
          "output_type": "stream",
          "name": "stdout",
          "text": [
            "[5 6 7 8] (4,)\n",
            "[[5 6 7 8]] (1, 4)\n",
            "[[5 6 7 8]] (1, 4)\n"
          ]
        }
      ],
      "source": [
        "row_r1 = a[1, :]    # Rank 1 view of the second row of a\n",
        "row_r2 = a[1:2, :]  # Rank 2 view of the second row of a\n",
        "row_r3 = a[[1], :]  # Rank 2 view of the second row of a\n",
        "print(row_r1, row_r1.shape )\n",
        "print (row_r2, row_r2.shape)\n",
        "print (row_r3, row_r3.shape)"
      ]
    },
    {
      "cell_type": "code",
      "execution_count": null,
      "metadata": {
        "colab": {
          "base_uri": "https://localhost:8080/"
        },
        "id": "gbxlmeyIL5V5",
        "outputId": "86fded09-7f19-4683-bf57-6853fe7a47b9"
      },
      "outputs": [
        {
          "output_type": "stream",
          "name": "stdout",
          "text": [
            "[2 4 6] (3,)\n",
            "[[2]\n",
            " [4]\n",
            " [6]] (3, 1)\n"
          ]
        }
      ],
      "source": [
        "# We can make the same distinction when accessing columns of an array:\n",
        "col_r1 = a[:, 1]\n",
        "col_r2 = a[:, 1:2]\n",
        "print (col_r1, col_r1.shape)\n",
        "print (col_r2, col_r2.shape)"
      ]
    },
    {
      "cell_type": "markdown",
      "metadata": {
        "id": "C1EcLLZjL5V-"
      },
      "source": [
        "Integer array indexing: When you index into numpy arrays using slicing, the resulting array view will always be a subarray of the original array. In contrast, integer array indexing allows you to construct arbitrary arrays using the data from another array. Here is an example:"
      ]
    },
    {
      "cell_type": "code",
      "execution_count": null,
      "metadata": {
        "colab": {
          "base_uri": "https://localhost:8080/"
        },
        "id": "vSXuL2MRL5WA",
        "outputId": "8fdfbcd2-2316-440a-d86f-c56110655f5a"
      },
      "outputs": [
        {
          "output_type": "stream",
          "name": "stdout",
          "text": [
            "[[1 2]\n",
            " [3 4]\n",
            " [5 6]]\n",
            "(3, 2)\n",
            "[1 4 5]\n",
            "[1 4 5]\n"
          ]
        }
      ],
      "source": [
        "a = np.array([[1,2], [3, 4], [5, 6]])\n",
        "print(a)\n",
        "print(a.shape)\n",
        "\n",
        "# An example of integer array indexing.\n",
        "# The returned array will have shape (3,) and\n",
        "print (a[[0, 1, 2], [0, 1, 0]])\n",
        "\n",
        "# The above example of integer array indexing is equivalent to this:\n",
        "print (np.array([a[0, 0], a[1, 1], a[2, 0]]))"
      ]
    },
    {
      "cell_type": "code",
      "execution_count": null,
      "metadata": {
        "colab": {
          "base_uri": "https://localhost:8080/"
        },
        "id": "5AXmyI0LL5WE",
        "outputId": "ca083597-1a40-4c3e-e78e-aad2878e60ed"
      },
      "outputs": [
        {
          "output_type": "stream",
          "name": "stdout",
          "text": [
            "[2 2]\n",
            "[2 2]\n"
          ]
        }
      ],
      "source": [
        "# When using integer array indexing, you can reuse the same\n",
        "# element from the source array:\n",
        "print (a[[0, 0], [1, 1]])\n",
        "\n",
        "# Equivalent to the previous integer array indexing example\n",
        "print( np.array([a[0, 1], a[0, 1]]))"
      ]
    },
    {
      "cell_type": "markdown",
      "metadata": {
        "id": "oV3JjLsnL5WI"
      },
      "source": [
        "<b>Fancy indexing"
      ]
    },
    {
      "cell_type": "code",
      "execution_count": null,
      "metadata": {
        "colab": {
          "base_uri": "https://localhost:8080/"
        },
        "id": "4bKTiyVKL5WK",
        "outputId": "c3cb53c0-a89b-4028-968d-4d573871d0be"
      },
      "outputs": [
        {
          "output_type": "stream",
          "name": "stdout",
          "text": [
            "[ 0 10 20 30 40 50 60 70]\n",
            "[10 20 50]\n"
          ]
        }
      ],
      "source": [
        "A=np.arange(0,80,10)\n",
        "print(A)\n",
        "indices=[1,2,-3]\n",
        "Y=A[indices]\n",
        "print(Y)"
      ]
    },
    {
      "cell_type": "code",
      "execution_count": null,
      "metadata": {
        "colab": {
          "base_uri": "https://localhost:8080/"
        },
        "id": "c0O4RSZwL5WP",
        "outputId": "99be51be-2ada-464a-9f0c-5b4fea2587c9"
      },
      "outputs": [
        {
          "output_type": "stream",
          "name": "stdout",
          "text": [
            "[ 0 99 99 30 40 99 60 70]\n"
          ]
        }
      ],
      "source": [
        "#This also work with Setting\n",
        "A[indices]=99 # It seems like multi-assignment\n",
        "print(A)"
      ]
    },
    {
      "cell_type": "markdown",
      "metadata": {
        "id": "O7aN9ZG0L5WU"
      },
      "source": [
        "One useful trick with integer array indexing is selecting or mutating one element from each row of a matrix:"
      ]
    },
    {
      "cell_type": "code",
      "execution_count": null,
      "metadata": {
        "colab": {
          "base_uri": "https://localhost:8080/"
        },
        "id": "uPRLyo-PL5WW",
        "outputId": "c53771b5-b92c-4d55-f9fb-bc81f372c7a5"
      },
      "outputs": [
        {
          "output_type": "stream",
          "name": "stdout",
          "text": [
            "[[ 1  2  3]\n",
            " [ 4  5  6]\n",
            " [ 7  8  9]\n",
            " [10 11 12]]\n"
          ]
        }
      ],
      "source": [
        "# Create a new array from which we will select elements\n",
        "a = np.array([[1,2,3], [4,5,6], [7,8,9], [10, 11, 12]])\n",
        "print(a)"
      ]
    },
    {
      "cell_type": "code",
      "execution_count": null,
      "metadata": {
        "colab": {
          "base_uri": "https://localhost:8080/"
        },
        "id": "W3SWcvETL5Wb",
        "outputId": "69f61524-283b-4c9c-873b-3985234b2bf9"
      },
      "outputs": [
        {
          "output_type": "stream",
          "name": "stdout",
          "text": [
            "[ 1  6  7 11]\n"
          ]
        }
      ],
      "source": [
        "# Create an array of indices\n",
        "b = np.array([0, 2, 0, 1])\n",
        "\n",
        "# Select one element from each row of a using the indices in b\n",
        "print( a[np.arange(4), b] ) # Prints \"[ 1  6  7 11]\"   [0 1 2 3][0 2 0 1]"
      ]
    },
    {
      "cell_type": "code",
      "execution_count": null,
      "metadata": {
        "colab": {
          "base_uri": "https://localhost:8080/"
        },
        "id": "E5oUrc8EL5Wg",
        "outputId": "3ab85483-b121-43da-c260-e4656bba70cc"
      },
      "outputs": [
        {
          "output_type": "stream",
          "name": "stdout",
          "text": [
            "[[11  2  3]\n",
            " [ 4  5 16]\n",
            " [17  8  9]\n",
            " [10 21 12]]\n"
          ]
        }
      ],
      "source": [
        "# Mutate one element from each row of a using the indices in b\n",
        "a[np.arange(4), b] += 10\n",
        "print (a)"
      ]
    },
    {
      "cell_type": "markdown",
      "metadata": {
        "id": "b_1-6chfL5Wk"
      },
      "source": [
        "Boolean array indexing: Boolean array indexing lets you pick out arbitrary elements of an array. Frequently this type of indexing is used to select the elements of an array that satisfy some condition. Here is an example:"
      ]
    },
    {
      "cell_type": "code",
      "execution_count": null,
      "metadata": {
        "colab": {
          "base_uri": "https://localhost:8080/"
        },
        "id": "yTQt60OsL5Wo",
        "outputId": "b2253357-6011-4ec8-d468-f5e9f9317587"
      },
      "outputs": [
        {
          "output_type": "stream",
          "name": "stdout",
          "text": [
            "[[False False]\n",
            " [ True  True]\n",
            " [ True  True]]\n"
          ]
        }
      ],
      "source": [
        "import numpy as np\n",
        "\n",
        "a = np.array([[1,2], [3, 4], [5, 6]])\n",
        "\n",
        "bool_idx = (a > 2)  # Find the elements of a that are bigger than 2;\n",
        "                    # this returns a numpy array of Booleans of the same\n",
        "                    # shape as a, where each slot of bool_idx tells\n",
        "                    # whether that element of a is > 2.\n",
        "\n",
        "print (bool_idx)"
      ]
    },
    {
      "cell_type": "code",
      "execution_count": null,
      "metadata": {
        "colab": {
          "base_uri": "https://localhost:8080/"
        },
        "id": "gp0z7wrSL5Ws",
        "outputId": "633c446f-d501-427f-c0c6-2136e8ec3c71"
      },
      "outputs": [
        {
          "output_type": "stream",
          "name": "stdout",
          "text": [
            "[3 4 5 6]\n",
            "[3 4 5 6]\n"
          ]
        }
      ],
      "source": [
        "# We use boolean array indexing to construct a rank 1 array\n",
        "# consisting of the elements of a corresponding to the True values\n",
        "# of bool_idx\n",
        "print ((a[bool_idx]))\n",
        "\n",
        "# We can do all of the above in a single concise statement:\n",
        "print (a[a > 2])"
      ]
    },
    {
      "cell_type": "markdown",
      "metadata": {
        "id": "dCnCY0CrL5W4"
      },
      "source": [
        "For brevity we have left out a lot of details about numpy array indexing; if you want to know more you should read the documentation."
      ]
    },
    {
      "cell_type": "markdown",
      "metadata": {
        "id": "_IWx0cJ4L5W5"
      },
      "source": [
        "### **Datatypes**"
      ]
    },
    {
      "cell_type": "markdown",
      "metadata": {
        "id": "_goM3ADKL5W6"
      },
      "source": [
        "Every numpy array is a grid of elements of the same type. Numpy provides a large set of numeric datatypes that you can use to construct arrays. Numpy tries to guess a datatype when you create an array, but functions that construct arrays usually also include an optional argument to explicitly specify the datatype. Here is an example:"
      ]
    },
    {
      "cell_type": "code",
      "execution_count": null,
      "metadata": {
        "colab": {
          "base_uri": "https://localhost:8080/"
        },
        "id": "E3SKbiDPL5W7",
        "outputId": "f9d2132e-18d8-4fe9-9015-370631c1757f"
      },
      "outputs": [
        {
          "output_type": "stream",
          "name": "stdout",
          "text": [
            "int64 float64 int64\n"
          ]
        }
      ],
      "source": [
        "x = np.array([1, 2])  # Let numpy choose the datatype\n",
        "y = np.array([1.0, 2.0])  # Let numpy choose the datatype\n",
        "z = np.array([1, 2], dtype=np.int64)  # Force a particular datatype\n",
        "\n",
        "print( x.dtype, y.dtype, z.dtype)"
      ]
    },
    {
      "cell_type": "markdown",
      "metadata": {
        "id": "X42lI2UOL5W-"
      },
      "source": [
        "You can read all about numpy datatypes in the [documentation](http://docs.scipy.org/doc/numpy/reference/arrays.dtypes.html)."
      ]
    },
    {
      "cell_type": "markdown",
      "metadata": {
        "id": "pGK8O7m1L5W-"
      },
      "source": [
        "### **Array math**"
      ]
    },
    {
      "cell_type": "markdown",
      "metadata": {
        "id": "_sXOTXi-L5XA"
      },
      "source": [
        "Basic mathematical functions operate elementwise on arrays, and are available both as operator overloads and as functions in the numpy module:"
      ]
    },
    {
      "cell_type": "code",
      "execution_count": null,
      "metadata": {
        "colab": {
          "base_uri": "https://localhost:8080/"
        },
        "id": "OQwLsRTOL5XC",
        "outputId": "33e01784-5cea-4de9-f609-1032e0801898"
      },
      "outputs": [
        {
          "output_type": "stream",
          "name": "stdout",
          "text": [
            "[[ 6.  8.]\n",
            " [10. 12.]]\n",
            "[[ 6.  8.]\n",
            " [10. 12.]]\n"
          ]
        }
      ],
      "source": [
        "x = np.array([[1,2],[3,4]], dtype=np.float64)\n",
        "y = np.array([[5,6],[7,8]], dtype=np.float64)\n",
        "\n",
        "# Elementwise sum; both produce the array\n",
        "print (x + y)\n",
        "print (np.add(x, y))\n"
      ]
    },
    {
      "cell_type": "code",
      "execution_count": null,
      "metadata": {
        "colab": {
          "base_uri": "https://localhost:8080/"
        },
        "id": "7evsX9wwL5XK",
        "outputId": "6c28d7e7-fe41-4001-fdb7-d68d9c306e4d"
      },
      "outputs": [
        {
          "output_type": "stream",
          "name": "stdout",
          "text": [
            "[[-4. -4.]\n",
            " [-4. -4.]]\n",
            "[[-4. -4.]\n",
            " [-4. -4.]]\n"
          ]
        }
      ],
      "source": [
        "# Elementwise difference; both produce the array\n",
        "print (x - y)\n",
        "print (np.subtract(x, y))"
      ]
    },
    {
      "cell_type": "code",
      "execution_count": null,
      "metadata": {
        "colab": {
          "base_uri": "https://localhost:8080/"
        },
        "id": "EyW-aQiiL5XR",
        "outputId": "6202f9e1-739e-4afd-8a34-722cb1500112"
      },
      "outputs": [
        {
          "output_type": "stream",
          "name": "stdout",
          "text": [
            "[[ 5. 12.]\n",
            " [21. 32.]]\n",
            "[[ 5. 12.]\n",
            " [21. 32.]]\n"
          ]
        }
      ],
      "source": [
        "# Elementwise product; both produce the array\n",
        "print (x * y)\n",
        "print (np.multiply(x, y))"
      ]
    },
    {
      "cell_type": "code",
      "execution_count": null,
      "metadata": {
        "colab": {
          "base_uri": "https://localhost:8080/"
        },
        "id": "lhVvlV3kL5XU",
        "outputId": "e032ae29-dc8b-4efd-94a0-b6636a8b9a4f"
      },
      "outputs": [
        {
          "output_type": "stream",
          "name": "stdout",
          "text": [
            "[[0.2        0.33333333]\n",
            " [0.42857143 0.5       ]]\n",
            "[[0.2        0.33333333]\n",
            " [0.42857143 0.5       ]]\n"
          ]
        }
      ],
      "source": [
        "# Elementwise division; both produce the array\n",
        "# [[ 0.2         0.33333333]\n",
        "#  [ 0.42857143  0.5       ]]\n",
        "print (x / y)\n",
        "print (np.divide(x, y))"
      ]
    },
    {
      "cell_type": "code",
      "execution_count": null,
      "metadata": {
        "colab": {
          "base_uri": "https://localhost:8080/"
        },
        "id": "elQCvTpcL5Xb",
        "outputId": "4aea92b7-5fe5-47f0-adf0-7132770a8678"
      },
      "outputs": [
        {
          "output_type": "stream",
          "name": "stdout",
          "text": [
            "[[1.         1.41421356]\n",
            " [1.73205081 2.        ]]\n"
          ]
        }
      ],
      "source": [
        "# Elementwise square root; produces the array\n",
        "# [[ 1.          1.41421356]\n",
        "#  [ 1.73205081  2.        ]]\n",
        "print (np.sqrt(x))"
      ]
    },
    {
      "cell_type": "markdown",
      "metadata": {
        "id": "54fPIJ5EL5Xg"
      },
      "source": [
        "Note that unlike MATLAB, `*` is elementwise multiplication, not matrix multiplication. We instead use the dot function to compute inner products of vectors, to multiply a vector by a matrix, and to multiply matrices. dot is available both as a function in the numpy module and as an instance method of array objects:"
      ]
    },
    {
      "cell_type": "code",
      "execution_count": null,
      "metadata": {
        "colab": {
          "base_uri": "https://localhost:8080/"
        },
        "id": "_F2qo1OcL5Xj",
        "outputId": "de463d69-673c-411a-837b-b543ed3bb186"
      },
      "outputs": [
        {
          "output_type": "stream",
          "name": "stdout",
          "text": [
            "219\n",
            "219\n"
          ]
        }
      ],
      "source": [
        "x = np.array([[1,2],[3,4]])\n",
        "y = np.array([[5,6],[7,8]])\n",
        "\n",
        "v = np.array([9,10])\n",
        "w = np.array([11, 12])\n",
        "\n",
        "# Inner product of vectors; both produce 219\n",
        "print (v.dot(w))\n",
        "print (np.dot(v, w))"
      ]
    },
    {
      "cell_type": "code",
      "execution_count": null,
      "metadata": {
        "colab": {
          "base_uri": "https://localhost:8080/"
        },
        "id": "-9DtS6E9L5Xm",
        "outputId": "167b9fb3-e6f8-4913-e021-1974332499c5"
      },
      "outputs": [
        {
          "output_type": "stream",
          "name": "stdout",
          "text": [
            "[29 67]\n",
            "[29 67]\n"
          ]
        }
      ],
      "source": [
        "# Matrix / vector product; both produce the rank 1 array [29 67]\n",
        "print (x.dot(v))\n",
        "print (np.dot(x, v))"
      ]
    },
    {
      "cell_type": "code",
      "execution_count": null,
      "metadata": {
        "colab": {
          "base_uri": "https://localhost:8080/"
        },
        "id": "eWjo9QK_L5Xr",
        "outputId": "f571e9cc-9a50-42f0-fa16-ea10c30d23b5"
      },
      "outputs": [
        {
          "output_type": "stream",
          "name": "stdout",
          "text": [
            "[[19 22]\n",
            " [43 50]]\n",
            "[[19 22]\n",
            " [43 50]]\n",
            "[[19 22]\n",
            " [43 50]]\n"
          ]
        }
      ],
      "source": [
        "# Matrix / matrix product; both produce the rank 2 array\n",
        "# [[19 22]\n",
        "#  [43 50]]\n",
        "print (x.dot(y))\n",
        "print (np.dot(x, y))\n",
        "print(x@y)"
      ]
    },
    {
      "cell_type": "markdown",
      "metadata": {
        "id": "ckh0_exlL5Xv"
      },
      "source": [
        "Numpy provides many useful functions for performing computations on arrays; one of the most useful is `sum`:"
      ]
    },
    {
      "cell_type": "markdown",
      "source": [
        "![image.png](data:image/png;base64,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)"
      ],
      "metadata": {
        "id": "Q0Sxo9tHhtu8"
      }
    },
    {
      "cell_type": "code",
      "execution_count": null,
      "metadata": {
        "colab": {
          "base_uri": "https://localhost:8080/"
        },
        "id": "A-hz6oR7L5Xw",
        "outputId": "27302475-df53-49c6-b8c0-b0db1408ed5f"
      },
      "outputs": [
        {
          "output_type": "stream",
          "name": "stdout",
          "text": [
            "[[1 2]\n",
            " [3 4]]\n",
            "10\n",
            "[4 6]\n",
            "[3 7]\n"
          ]
        }
      ],
      "source": [
        "x = np.array([[1,2],[3,4]])\n",
        "print(x)\n",
        "print (np.sum(x))  # Compute sum of all elements; prints \"10\"\n",
        "print (np.sum(x, axis=0) ) # Compute sum of each column; prints \"[4 6]\"\n",
        "print (np.sum(x, axis=1) ) # Compute sum of each row; prints \"[3 7]\""
      ]
    },
    {
      "cell_type": "markdown",
      "metadata": {
        "id": "oOG2dHdaL5X0"
      },
      "source": [
        "You can find the full list of mathematical functions provided by numpy in the [documentation](http://docs.scipy.org/doc/numpy/reference/routines.math.html).\n",
        "\n",
        "Apart from computing mathematical functions using arrays, we frequently need to reshape or otherwise manipulate data in arrays. The simplest example of this type of operation is transposing a matrix; to transpose a matrix, simply use the T attribute of an array object:"
      ]
    },
    {
      "cell_type": "code",
      "execution_count": null,
      "metadata": {
        "colab": {
          "base_uri": "https://localhost:8080/"
        },
        "id": "-nhHlj0DL5X2",
        "outputId": "911bc57f-3238-464e-a57c-347350ce580c"
      },
      "outputs": [
        {
          "output_type": "stream",
          "name": "stdout",
          "text": [
            "[[1 2]\n",
            " [3 4]]\n",
            "[[1 3]\n",
            " [2 4]]\n"
          ]
        }
      ],
      "source": [
        "print(x)\n",
        "print(x.T)\n"
      ]
    },
    {
      "cell_type": "code",
      "execution_count": null,
      "metadata": {
        "colab": {
          "base_uri": "https://localhost:8080/"
        },
        "id": "44NQhFbbL5X7",
        "outputId": "2d7e0ffc-1045-4ccd-bb50-057a8fb6866d"
      },
      "outputs": [
        {
          "output_type": "stream",
          "name": "stdout",
          "text": [
            "[[1 2 3]]\n",
            "[[1]\n",
            " [2]\n",
            " [3]]\n",
            "(1, 3)\n"
          ]
        }
      ],
      "source": [
        "v = np.array([[1,2,3]])\n",
        "print (v)\n",
        "print (v.T)\n",
        "print(v.shape)"
      ]
    },
    {
      "cell_type": "markdown",
      "metadata": {
        "id": "haqs_zBML5X_"
      },
      "source": [
        "#numpy position functions; for an array `a`\n",
        "* np.argmax(a) = index of maximum\n",
        "* np.argmin(a) = index of minimum\n",
        "* np.argwhere(condition(a)) =  indices that satisfies the condition\n",
        "* np.argsort(a) = indices that would sort an array `a`"
      ]
    },
    {
      "cell_type": "markdown",
      "metadata": {
        "id": "8HhGkY-1L5YA"
      },
      "source": [
        "### **Broadcasting**"
      ]
    },
    {
      "cell_type": "markdown",
      "metadata": {
        "id": "UxfitbC4L5YB"
      },
      "source": [
        "Broadcasting is a powerful mechanism that allows numpy to work with **arrays of different shapes** when performing arithmetic operations. Frequently we have a smaller array and a larger array, and we want to use the smaller array multiple times to perform some operation on the larger array.\n",
        "\n",
        "For example, suppose that we want to add a constant vector to each row of a matrix. We could do it like this:"
      ]
    },
    {
      "cell_type": "code",
      "execution_count": null,
      "metadata": {
        "colab": {
          "base_uri": "https://localhost:8080/"
        },
        "id": "qJndNhMjL5YC",
        "outputId": "18a9a57b-853f-46c6-a650-3de15e1fe470"
      },
      "outputs": [
        {
          "output_type": "stream",
          "name": "stdout",
          "text": [
            "[[ 2  2  4]\n",
            " [ 5  5  7]\n",
            " [ 8  8 10]\n",
            " [11 11 13]]\n"
          ]
        }
      ],
      "source": [
        "# We will add the vector v to each row of the matrix x,\n",
        "# storing the result in the matrix y\n",
        "x = np.array([[1,2,3], [4,5,6], [7,8,9], [10, 11, 12]])\n",
        "v = np.array([1, 0, 1])\n",
        "y = np.empty_like(x)   # Create an empty matrix with the same shape as x\n",
        "\n",
        "# Add the vector v to each row of the matrix x with an explicit loop\n",
        "for i in range(4):\n",
        "    y[i, :] = x[i, :] + v\n",
        "\n",
        "print(y)"
      ]
    },
    {
      "cell_type": "markdown",
      "metadata": {
        "id": "QNc2DKy3L5YF"
      },
      "source": [
        "This works; however when the matrix `x` is very large, computing an explicit loop in Python could be slow. Note that adding the vector v to each row of the matrix `x` is equivalent to forming a matrix `vv` by stacking multiple copies of `v` vertically, then performing elementwise summation of `x` and `vv`. We could implement this approach like this:"
      ]
    },
    {
      "cell_type": "code",
      "execution_count": null,
      "metadata": {
        "colab": {
          "base_uri": "https://localhost:8080/"
        },
        "id": "QW5blYkwL5YF",
        "outputId": "98ab2787-3745-47ae-820f-fab9d28104f7"
      },
      "outputs": [
        {
          "output_type": "stream",
          "name": "stdout",
          "text": [
            "[[1 0 1]\n",
            " [1 0 1]\n",
            " [1 0 1]\n",
            " [1 0 1]]\n",
            "(4, 3)\n"
          ]
        }
      ],
      "source": [
        "vv = np.tile(v, (4, 1))  # Stack 4 copies of v on top of each other\n",
        "print (vv)                 # Prints \"[[1 0 1]\n",
        "                          #          [1 0 1]\n",
        "                         #          [1 0 1]\n",
        "print(vv.shape)                         #          [1 0 1]]\""
      ]
    },
    {
      "cell_type": "code",
      "execution_count": null,
      "metadata": {
        "colab": {
          "base_uri": "https://localhost:8080/"
        },
        "id": "WN31kwD8L5YI",
        "outputId": "69519e24-bafc-4414-c179-fd54ba1d1537"
      },
      "outputs": [
        {
          "output_type": "stream",
          "name": "stdout",
          "text": [
            "[[ 2  2  4]\n",
            " [ 5  5  7]\n",
            " [ 8  8 10]\n",
            " [11 11 13]]\n"
          ]
        }
      ],
      "source": [
        "y = x + vv  # Add x and vv elementwise\n",
        "print (y)"
      ]
    },
    {
      "cell_type": "markdown",
      "metadata": {
        "id": "0iSmi6k2L5YL"
      },
      "source": [
        "Numpy broadcasting allows us to perform this computation without actually creating multiple copies of v. Consider this version, using broadcasting:"
      ]
    },
    {
      "cell_type": "code",
      "execution_count": null,
      "metadata": {
        "colab": {
          "base_uri": "https://localhost:8080/"
        },
        "id": "f9A053QbL5YM",
        "outputId": "e3737712-cb4b-4a06-df3b-02a627298648"
      },
      "outputs": [
        {
          "output_type": "stream",
          "name": "stdout",
          "text": [
            "[[ 2  2  4]\n",
            " [ 5  5  7]\n",
            " [ 8  8 10]\n",
            " [11 11 13]]\n"
          ]
        }
      ],
      "source": [
        "import numpy as np\n",
        "\n",
        "# We will add the vector v to each row of the matrix x,\n",
        "# storing the result in the matrix y\n",
        "x = np.array([[1,2,3], [4,5,6], [7,8,9], [10, 11, 12]])\n",
        "v = np.array([1, 0, 1])\n",
        "y = x + v  # Add v to each row of x using broadcasting\n",
        "print (y)"
      ]
    },
    {
      "cell_type": "markdown",
      "metadata": {
        "id": "j0sPjTVoL5YS"
      },
      "source": [
        "The line `y = x + v` works even though `x` has shape `(4, 3)` and `v` has shape `(3,)` due to broadcasting; this line works as if v actually had shape `(4, 3)`, where each row was a copy of `v`, and the sum was performed elementwise.\n",
        "\n",
        "Broadcasting two arrays together follows these rules:\n",
        "\n",
        "1. If the arrays do not have the same rank, prepend the shape of the lower rank array with 1s until both shapes have the same length.\n",
        "2. The two arrays are said to be compatible in a dimension if they have the same size in the dimension, or if one of the arrays has size 1 in that dimension.\n",
        "3. The arrays can be broadcast together if they are compatible in all dimensions.\n",
        "4. After broadcasting, each array behaves as if it had shape equal to the elementwise maximum of shapes of the two input arrays.\n",
        "5. In any dimension where one array had size 1 and the other array had size greater than 1, the first array behaves as if it were copied along that dimension\n",
        "\n",
        "If this explanation does not make sense, try reading the explanation from the [documentation](http://docs.scipy.org/doc/numpy/user/basics.broadcasting.html) or this [explanation](http://wiki.scipy.org/EricsBroadcastingDoc).\n",
        "\n",
        "Functions that support broadcasting are known as universal functions. You can find the list of all universal functions in the [documentation](http://docs.scipy.org/doc/numpy/reference/ufuncs.html#available-ufuncs).\n",
        "\n",
        "Here are some applications of broadcasting:"
      ]
    },
    {
      "cell_type": "markdown",
      "metadata": {
        "id": "A-9BsCGXoqbm"
      },
      "source": [
        "In a summary the rule is the trailing axes of either arrays must be one or both must have the same size for broadcasting to occur. Otherwith, an exception is thrown."
      ]
    },
    {
      "cell_type": "code",
      "execution_count": null,
      "metadata": {
        "colab": {
          "base_uri": "https://localhost:8080/"
        },
        "id": "MAybMg_hL5YT",
        "outputId": "531c0f47-a481-487e-e78c-4b0e343e6cb3"
      },
      "outputs": [
        {
          "output_type": "stream",
          "name": "stdout",
          "text": [
            "[[ 4  5]\n",
            " [ 8 10]\n",
            " [12 15]]\n"
          ]
        }
      ],
      "source": [
        "# Compute outer product of vectors\n",
        "v = np.array([1,2,3])  # v has shape (3,)\n",
        "w = np.array([4,5])    # w has shape (2,)\n",
        "# To compute an outer product, we first reshape v to be a column\n",
        "# vector of shape (3, 1); we can then broadcast it against w to yield\n",
        "# an output of shape (3, 2), which is the outer product of v and w:\n",
        "\n",
        "print( np.reshape(v, (3, 1)) * w)"
      ]
    },
    {
      "cell_type": "code",
      "execution_count": null,
      "metadata": {
        "id": "CZqavafiL5YV",
        "colab": {
          "base_uri": "https://localhost:8080/"
        },
        "outputId": "abca2fc5-61f2-486f-9526-196e57033173"
      },
      "outputs": [
        {
          "output_type": "stream",
          "name": "stdout",
          "text": [
            "[[2 4 6]\n",
            " [5 7 9]]\n"
          ]
        }
      ],
      "source": [
        "# Add a vector to each row of a matrix\n",
        "x = np.array([[1,2,3], [4,5,6]])\n",
        "# x has shape (2, 3) and v has shape (3,) so they broadcast to (2, 3),\n",
        "# giving the following matrix:\n",
        "\n",
        "print (x + v)"
      ]
    },
    {
      "cell_type": "code",
      "execution_count": null,
      "metadata": {
        "id": "PXp8n8ZLL5Yb",
        "colab": {
          "base_uri": "https://localhost:8080/"
        },
        "outputId": "4b2b6a07-053f-419c-b692-299391f991ca"
      },
      "outputs": [
        {
          "output_type": "stream",
          "name": "stdout",
          "text": [
            "[[ 5  6  7]\n",
            " [ 9 10 11]]\n"
          ]
        }
      ],
      "source": [
        "# Add a vector to each column of a matrix\n",
        "# x has shape (2, 3) and w has shape (2,).\n",
        "# If we transpose x then it has shape (3, 2) and can be broadcast\n",
        "# against w to yield a result of shape (3, 2); transposing this result\n",
        "# yields the final result of shape (2, 3) which is the matrix x with\n",
        "# the vector w added to each column. Gives the following matrix:\n",
        "print ((x.T + w).T)"
      ]
    },
    {
      "cell_type": "code",
      "execution_count": null,
      "metadata": {
        "id": "YO4iIyQlL5Ye",
        "colab": {
          "base_uri": "https://localhost:8080/"
        },
        "outputId": "8ccaba81-4086-41fc-8eb0-96edd4c65c0c"
      },
      "outputs": [
        {
          "output_type": "stream",
          "name": "stdout",
          "text": [
            "[[ 5  6  7]\n",
            " [ 9 10 11]]\n"
          ]
        }
      ],
      "source": [
        "# Another solution is to reshape w to be a row vector of shape (2, 1);\n",
        "# we can then broadcast it directly against x to produce the same\n",
        "# output.\n",
        "print (x + np.reshape(w, (2, 1)))"
      ]
    },
    {
      "cell_type": "code",
      "execution_count": null,
      "metadata": {
        "id": "xqDFysLsL5Yh",
        "colab": {
          "base_uri": "https://localhost:8080/"
        },
        "outputId": "f4c2d276-dc4e-4e4a-bf23-d6603760c83c"
      },
      "outputs": [
        {
          "output_type": "stream",
          "name": "stdout",
          "text": [
            "[[ 2  4  6]\n",
            " [ 8 10 12]]\n"
          ]
        }
      ],
      "source": [
        "# Multiply a matrix by a constant:\n",
        "# x has shape (2, 3). Numpy treats scalars as arrays of shape ();\n",
        "# these can be broadcast together to shape (2, 3), producing the\n",
        "# following array:\n",
        "print(x * 2)"
      ]
    },
    {
      "cell_type": "markdown",
      "metadata": {
        "id": "AH6QYUWtL5Yn"
      },
      "source": [
        "Broadcasting typically makes your code more concise and faster, so you should strive to use it where possible."
      ]
    },
    {
      "cell_type": "markdown",
      "metadata": {
        "id": "zLWNGB01L5Yo"
      },
      "source": [
        "This brief overview has touched on many of the important things that you need to know about numpy, but is far from complete. Check out the [numpy reference](http://docs.scipy.org/doc/numpy/reference/) to find out much more about numpy."
      ]
    },
    {
      "cell_type": "markdown",
      "metadata": {
        "id": "g3cHl_9tL5Yo"
      },
      "source": [
        "## **Matplotlib**"
      ]
    },
    {
      "cell_type": "markdown",
      "metadata": {
        "id": "z2Lkq3rTL5Yp"
      },
      "source": [
        "Matplotlib is a plotting library. In this section give a brief introduction to the `matplotlib.pyplot` module, which provides a plotting system similar to that of MATLAB."
      ]
    },
    {
      "cell_type": "code",
      "execution_count": null,
      "metadata": {
        "id": "ZOisee6EL5Yq"
      },
      "outputs": [],
      "source": [
        "import matplotlib.pyplot as plt"
      ]
    },
    {
      "cell_type": "markdown",
      "metadata": {
        "id": "BSmRKVRzL5Yx"
      },
      "source": [
        "By running this special iPython command, we will be displaying plots inline:"
      ]
    },
    {
      "cell_type": "code",
      "execution_count": null,
      "metadata": {
        "id": "5yyLdqRXL5Yy"
      },
      "outputs": [],
      "source": [
        "%matplotlib inline"
      ]
    },
    {
      "cell_type": "markdown",
      "metadata": {
        "id": "rF-WguadL5Y4"
      },
      "source": [
        "### **Plotting**"
      ]
    },
    {
      "cell_type": "markdown",
      "metadata": {
        "id": "yMng4gEZL5Y5"
      },
      "source": [
        "The most important function in `matplotlib` is plot, which allows you to plot 2D data. Here is a simple example:"
      ]
    },
    {
      "cell_type": "code",
      "execution_count": null,
      "metadata": {
        "id": "VQgzhZB8L5Y5",
        "colab": {
          "base_uri": "https://localhost:8080/",
          "height": 447
        },
        "outputId": "5245c8f7-3084-4702-ffc1-529ab30da3fd"
      },
      "outputs": [
        {
          "output_type": "execute_result",
          "data": {
            "text/plain": [
              "[<matplotlib.lines.Line2D at 0x78e55b782fe0>]"
            ]
          },
          "metadata": {},
          "execution_count": 52
        },
        {
          "output_type": "display_data",
          "data": {
            "text/plain": [
              "<Figure size 640x480 with 1 Axes>"
            ],
            "image/png": "[encoded data removed]"
          },
          "metadata": {}
        }
      ],
      "source": [
        "# Compute the x and y coordinates for points on a sine curve\n",
        "x = np.arange(0, 3 * np.pi, 0.1)\n",
        "y = np.sin(x)\n",
        "\n",
        "# Plot the points using matplotlib\n",
        "plt.plot(x, y)"
      ]
    },
    {
      "cell_type": "markdown",
      "metadata": {
        "id": "iY79MwaEL5Y8"
      },
      "source": [
        "With just a little bit of extra work we can easily plot multiple lines at once, and add a title, legend, and axis labels:"
      ]
    },
    {
      "cell_type": "code",
      "execution_count": null,
      "metadata": {
        "id": "MIn496zFL5Y8",
        "colab": {
          "base_uri": "https://localhost:8080/",
          "height": 489
        },
        "outputId": "a9637193-533f-4025-ff53-d018fb41503f"
      },
      "outputs": [
        {
          "output_type": "execute_result",
          "data": {
            "text/plain": [
              "<matplotlib.legend.Legend at 0x78e558307580>"
            ]
          },
          "metadata": {},
          "execution_count": 53
        },
        {
          "output_type": "display_data",
          "data": {
            "text/plain": [
              "<Figure size 640x480 with 1 Axes>"
            ],
            "image/png": "[encoded data removed]"
          },
          "metadata": {}
        }
      ],
      "source": [
        "y_sin = np.sin(x)\n",
        "y_cos = np.cos(x)\n",
        "\n",
        "# Plot the points using matplotlib\n",
        "plt.plot(x, y_sin)\n",
        "plt.plot(x, y_cos)\n",
        "plt.xlabel('x axis label')\n",
        "plt.ylabel('y axis label')\n",
        "plt.title('Sine and Cosine')\n",
        "plt.legend(['Sine', 'Cosine'])"
      ]
    },
    {
      "cell_type": "markdown",
      "metadata": {
        "id": "cumxZzwML5Y-"
      },
      "source": [
        "##Subplots"
      ]
    },
    {
      "cell_type": "markdown",
      "metadata": {
        "id": "WLn6V7YkL5Y_"
      },
      "source": [
        "You can plot different things in the same figure using the subplot function. Here is an example:"
      ]
    },
    {
      "cell_type": "code",
      "execution_count": null,
      "metadata": {
        "id": "ZS5ICOUtL5ZA",
        "colab": {
          "base_uri": "https://localhost:8080/",
          "height": 452
        },
        "outputId": "6fb4ba7c-7c54-475d-eacc-efd2b624d9b2"
      },
      "outputs": [
        {
          "output_type": "display_data",
          "data": {
            "text/plain": [
              "<Figure size 640x480 with 2 Axes>"
            ],
            "image/png": "[encoded data removed]"
          },
          "metadata": {}
        }
      ],
      "source": [
        "# Compute the x and y coordinates for points on sine and cosine curves\n",
        "x = np.arange(0, 3 * np.pi, 0.1)\n",
        "y_sin = np.sin(x)\n",
        "y_cos = np.cos(x)\n",
        "\n",
        "# Set up a subplot grid that has height 2 and width 1,\n",
        "# and set the first such subplot as active.\n",
        "plt.subplot(2, 1, 1)\n",
        "\n",
        "# Make the first plot\n",
        "plt.plot(x, y_sin)\n",
        "plt.title('Sine')\n",
        "\n",
        "# Set the second subplot as active, and make the second plot.\n",
        "plt.subplot(2, 1, 2)\n",
        "plt.plot(x, y_cos)\n",
        "plt.title('Cosine')\n",
        "\n",
        "# Show the figure.\n",
        "plt.show()"
      ]
    },
    {
      "cell_type": "markdown",
      "metadata": {
        "id": "t5S5RqIYL5ZC"
      },
      "source": [
        "You can read much more about the `subplot` function in the [documentation](http://matplotlib.org/api/pyplot_api.html#matplotlib.pyplot.subplot)."
      ]
    },
    {
      "cell_type": "markdown",
      "metadata": {
        "id": "GfvgdwaNig9h"
      },
      "source": [
        "# References"
      ]
    },
    {
      "cell_type": "markdown",
      "metadata": {
        "id": "n4pSIJfPiquT"
      },
      "source": [
        "1- http://cs231n.github.io/python-numpy-tutorial/\n",
        "\n",
        "2-https://github.com/enthought/Numpy-Tutorial-SciPyConf-2019/blob/master/slides.pdf\n",
        "\n",
        "3-https://jalammar.github.io/visual-numpy/"
      ]
    }
  ],
  "metadata": {
    "accelerator": "GPU",
    "colab": {
      "collapsed_sections": [
        "rF-WguadL5Y4"
      ],
      "provenance": []
    },
    "kernelspec": {
      "display_name": "Python 3",
      "language": "python",
      "name": "python3"
    },
    "language_info": {
      "codemirror_mode": {
        "name": "ipython",
        "version": 3
      },
      "file_extension": ".py",
      "mimetype": "text/x-python",
      "name": "python",
      "nbconvert_exporter": "python",
      "pygments_lexer": "ipython3",
      "version": "3.7.1"
    }
  },
  "nbformat": 4,
  "nbformat_minor": 0
}